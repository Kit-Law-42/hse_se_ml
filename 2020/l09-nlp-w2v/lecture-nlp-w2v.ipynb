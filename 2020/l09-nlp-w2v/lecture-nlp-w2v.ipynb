{
 "cells": [
  {
   "cell_type": "markdown",
   "metadata": {
    "slideshow": {
     "slide_type": "slide"
    }
   },
   "source": [
    "<center><img src=\"img/logo_hse_black.jpg\"></center>\n",
    "\n",
    "<h1><center>Data Analysis</center></h1>\n",
    "<h3><center>Andrey Shestakov (<a href=\"mailto:avshestakov@hse.ru\">avshestakov@hse.ru</a>)</center></h3>\n",
    "<hr>\n",
    "<h2><center>Word Embeddings</center></h2>"
   ]
  },
  {
   "cell_type": "code",
   "execution_count": 1,
   "metadata": {
    "slideshow": {
     "slide_type": "notes"
    }
   },
   "outputs": [],
   "source": [
    "%matplotlib inline"
   ]
  },
  {
   "cell_type": "code",
   "execution_count": 2,
   "metadata": {
    "slideshow": {
     "slide_type": "notes"
    }
   },
   "outputs": [],
   "source": [
    "import pandas as pd\n",
    "import numpy as np\n",
    "import matplotlib.pyplot as plt\n",
    "\n",
    "plt.style.use('seaborn-talk')\n",
    "plt.rcParams['figure.figsize'] = (15,10)\n",
    "\n",
    "# Для кириллицы на графиках\n",
    "font = {'family': 'Verdana',\n",
    "        'weight': 'normal'}\n",
    "plt.rc('font', **font)\n",
    "\n",
    "try:\n",
    "    from ipywidgets import interact, IntSlider, fixed, FloatSlider\n",
    "except ImportError:\n",
    "    print(u'Так надо')\n",
    "    \n",
    "import warnings\n",
    "warnings.filterwarnings('ignore')"
   ]
  },
  {
   "cell_type": "markdown",
   "metadata": {
    "slideshow": {
     "slide_type": "slide"
    }
   },
   "source": [
    "## Previously..\n",
    "* BoW text representation of documents\n",
    "\n",
    "* Each **document** $d_i$ from **corpus** $D$ is represented with vector\n",
    "$$ d_i = (w_1^i, w_2^i, \\dots, w_N^i) $$\n",
    "* $w_j^i$ - weight of word $j$ in document $i$\n",
    "* word order is ignored\n",
    "\n",
    "<center><img src='img/bow.png'><center/>"
   ]
  },
  {
   "cell_type": "markdown",
   "metadata": {
    "slideshow": {
     "slide_type": "subslide"
    }
   },
   "source": [
    "# Problems with BoW\n",
    "\n",
    "* Huge dimention of vectors (size of vocabulary)\n",
    "* Problems with **meaning** capturing of individual words\n",
    "    * \"Мера Левенштейна\"\n",
    "    * \"Расстояние Левенштейна\"\n",
    "    \n",
    "    \n",
    "* We want vector representation (embedding) of words s.t.:\n",
    "    * it is low-dimentional (128-1024)\n",
    "    * similar words have similar vectors"
   ]
  },
  {
   "cell_type": "markdown",
   "metadata": {
    "slideshow": {
     "slide_type": "slide"
    }
   },
   "source": [
    "# Distributional hypothesis\n",
    "\n",
    "“You shall know a word by the company it keeps.” (J.R. Firth (1957))"
   ]
  },
  {
   "cell_type": "markdown",
   "metadata": {
    "slideshow": {
     "slide_type": "subslide"
    }
   },
   "source": [
    "## Approach 1: co-ocurence matrix\n",
    "\n",
    "* Set some window size\n",
    "* Calculate word-to-word co-ocurence counts $n_{uv}$\n",
    "    * or pointwise mutual information $PMI(u,v) = \\log\\left(\\frac{p(u,v)}{p(u)\\cdot p(v)}\\right)$\n",
    "\n",
    "<center><img src='img/context.png'></center>\n",
    "    \n",
    "Still, vectors are huge, so let's run dimention reduction!"
   ]
  },
  {
   "cell_type": "markdown",
   "metadata": {
    "slideshow": {
     "slide_type": "subslide"
    }
   },
   "source": [
    "## Approach 1: co-ocurence matrix\n",
    "\n",
    "Use truncated SVD!\n",
    "<center><img src='img/svd.png'></center>\n",
    "\n",
    "* Represent it as factorization of 2 matrices\n",
    "    * $\\Phi = U\\sqrt{\\Sigma}$\n",
    "    * $\\Theta = \\sqrt{\\Sigma}V$\n",
    "* SVD provides us with the best approximation of $C$ in terms of Frobenius norm\n",
    "    * $L(C,\\Phi,\\Theta) = \\sqrt{\\sum_\\limits{uv} \\left(\\phi_u^\\top\\theta_v - C_{uv}\\right)^2}$\n",
    "* get word embeddings as $\\phi_u + \\theta_u$"
   ]
  },
  {
   "cell_type": "markdown",
   "metadata": {
    "slideshow": {
     "slide_type": "fragment"
    }
   },
   "source": [
    "* Problems\n",
    "    * $C$ is mostly sparse\n",
    "    * Some co-occurences are quite common (for example with \"the\", \"a\" and other stopwords)"
   ]
  },
  {
   "cell_type": "markdown",
   "metadata": {
    "slideshow": {
     "slide_type": "subslide"
    }
   },
   "source": [
    "## [GloVe](https://nlp.stanford.edu/projects/glove/) - GLObal VEctors  (Pennington, et al. 2014)\n",
    "* Introduces another loss function\n",
    "$$ L(W,\\Phi,\\Theta,b,c) = \\frac{1}{2}\\sum_\\limits{uv}f(n_{uv})\\cdot\\left(\\phi_u^\\top\\theta_v + b_u + c_v - \\log(n_{uv})\\right)^2 \\rightarrow \\min\\limits_{\\phi, \\theta, b, c}$$\n",
    "\n",
    "<center><img src='img/glove_f.png'></center>\n",
    "\n",
    "* Can be optimized via ALS (Alternating Least Squares)"
   ]
  },
  {
   "cell_type": "markdown",
   "metadata": {
    "slideshow": {
     "slide_type": "slide"
    }
   },
   "source": [
    "## Approach 2: prediction of context\n",
    "\n",
    "* Set some window size\n",
    "* Go through each position $t$ in the text\n",
    "    * word on position $t$ is called **center word** $c$ \n",
    "    * words within window frame from $c$ are called **context words** $o$\n",
    "* Find such word vectors that maximized probability likelihood\n",
    "\n",
    "<center><img src='img/w2v_window2.png'></center>"
   ]
  },
  {
   "cell_type": "markdown",
   "metadata": {
    "slideshow": {
     "slide_type": "subslide"
    }
   },
   "source": [
    "## Approach 2: objective\n",
    "\n",
    "$$\n",
    "\\begin{align*}  \n",
    "L(\\cdot) &= \\prod_{t=1}^T\\prod_{-m\\leq j \\leq m, j\\neq0} p(w_{t+j} | w_t) \\rightarrow \\max \\\\\n",
    " &\\approx -\\sum_{t=1}^T\\sum_{-m\\leq j \\leq m, j\\neq0} \\log p(w_{t+j} | w_t) \\rightarrow \\min  \n",
    "\\end{align*}\n",
    "$$\n",
    "\n",
    "* How do we calculate $p(w_{t+j} | w_t)$?\n",
    "    * Use the similarity of the word vectors for $c$ and $o$ to calculate the probability of $o$ given $c$ (or vice versa)\n",
    "    * Each word is having set of 2 vectors: $u$ when it is context word, $v$ when it is center word:\n",
    "\n",
    "$$ p(o|c) = \\frac{\\exp(u_o^\\top v_c)}{\\sum\\limits_{w\\in V} \\exp(u_w^\\top v_c)} \\leftarrow \\text{softmax!!}$$\n",
    "and our objective transformes to\n",
    "$$L(u,v) = -\\sum_{(o,c)} \\left(u_o^\\top v_c - \\log\\left(\\sum\\limits_{w\\in V} \\exp(u_w^\\top v_c)\\right)\\right) \\rightarrow \\min\\limits_{u,v}$$\n",
    "* Need to calculated last term more efficiently!\n",
    "    "
   ]
  },
  {
   "cell_type": "markdown",
   "metadata": {
    "slideshow": {
     "slide_type": "subslide"
    }
   },
   "source": [
    "## Negative sampling\n",
    "* With given corpus we can mark pairs of words $(o,c)\\in D$ as observed (positive class) ...\n",
    "* and randomly generate unobserved pairs of words $(o`,c)\\notin D$ (negative class)\n",
    "<center><img src='img/w2v_window.png'></center>"
   ]
  },
  {
   "cell_type": "markdown",
   "metadata": {
    "slideshow": {
     "slide_type": "subslide"
    }
   },
   "source": [
    "## Negative sampling\n",
    "* similarly as it was for binary logistic regression:\n",
    "$$ p(o|c) = \\sigma(u_o^\\top v_c)$$\n",
    "\n",
    "\n",
    "$$\n",
    "\\begin{align*}\n",
    "L(u,v) &= -\\prod_{(o,c)\\in D}p(o|c) \\prod_{(o`,c)\\notin D}(1-p(o`|c))  = \\\\\n",
    "       &= -\\sum_{(o,c)\\in D}\\log p(o|c) - \\sum_{(o`,c)\\notin D}\\log (1- p(o`|c)) =  \\\\\n",
    "       &= -\\sum_{(o,c)\\in D}\\log \\sigma(u_o^\\top v_c) - \\sum_{(o`,c)\\notin D}\\log \\sigma(-u_{o`}^\\top v_{c}) \\rightarrow \\min\\limits_{u,v}\n",
    "\\end{align*}\n",
    "$$\n",
    "\n",
    "\n",
    "* Specifically, for each $(o, c) \\in D$ we construct $k$ samples $(o_1, c ),\\dots, (o_k, c)$, where each $o_j$ is drawn according to its unigram distribution to the power $3/4$\n",
    "* Need to compute gradient updates for $u_o$, $v_c$ and $u_{o`}$"
   ]
  },
  {
   "cell_type": "markdown",
   "metadata": {
    "slideshow": {
     "slide_type": "subslide"
    }
   },
   "source": [
    "## Skip-Gram model\n",
    "\n",
    "<center><img src='http://ruder.io/content/images/2016/02/skip-gram.png'></center>"
   ]
  },
  {
   "cell_type": "markdown",
   "metadata": {
    "slideshow": {
     "slide_type": "subslide"
    }
   },
   "source": [
    "## Continious Bag of Words (CBOW)\n",
    "\"Combination of context vectors predicts center word\"\n",
    "$$L = \\frac{1}{T}\\sum\\limits_{t=1}^T\\ \\text{log} \\space p(w_t \\: | \\: w_{t-m} , \\cdots , w_{t-1}, w_{t+1}, \\cdots , w_{t+m})$$\n",
    "\n",
    "\n",
    "<center><img src='http://ruder.io/content/images/2016/02/cbow.png'></center>"
   ]
  },
  {
   "cell_type": "markdown",
   "metadata": {
    "slideshow": {
     "slide_type": "subslide"
    }
   },
   "source": [
    "## SkipGram vs CBOW\n",
    "\n",
    "* CBOW is faster during learning\n",
    "* SkipGram is better for rare words"
   ]
  },
  {
   "cell_type": "markdown",
   "metadata": {
    "slideshow": {
     "slide_type": "subslide"
    }
   },
   "source": [
    "## W2V as neural network\n",
    "\n",
    "Sometimes w2v model is described as neural network with two hidden layers\n",
    "<center><img src=img/w2v_as_nn.png></center>"
   ]
  },
  {
   "cell_type": "markdown",
   "metadata": {},
   "source": [
    "# Results\n",
    "\n",
    "* https://rusvectores.org/ru/\n",
    "* http://bionlp-www.utu.fi/wv_demo/"
   ]
  },
  {
   "cell_type": "markdown",
   "metadata": {
    "slideshow": {
     "slide_type": "subslide"
    }
   },
   "source": [
    "# Word Vectors Evaluation\n",
    "\n",
    "- **Visual Exploration**: whereby (a subsection of) the embeddings are displayed\n",
    "- **Intrinsic Evaluation**: whereby the embeddings are used to perform a token-based task and the results are compared with a gold standard.\n",
    "    + **Word Prediction**: whereby we look into using a test corpus to evaluate the embeddings by defining a word prediction task.\n",
    "- **Extrinsic Evaluation**: whereby a new model is learned (using the embeddings as inputs) to perform a complex task. \n",
    "  "
   ]
  },
  {
   "cell_type": "markdown",
   "metadata": {
    "slideshow": {
     "slide_type": "subslide"
    }
   },
   "source": [
    "## Visual Exploration\n",
    "Use dimensionality reduction algorithms such as t-SNE and PCA to visualize (a subset) of the embedding space to project points to a 2-D or 3-D space.\n",
    "\n",
    " - Pros:\n",
    "   - Can give you a sense of whether the model has correctly learned meaningful relations. Especially if you have a small number of pre-categorized words.\n",
    "   - Easy to explore the space\n",
    " - Cons:\n",
    "   - Subjective: neighbourhoods may look good, but are they? There is no gold standard\n",
    "   - Works best for a small subset of the embedding space. But who decides which subset?\n",
    "   - resulting projection can be deceiving: what looks close in 3-D space can be far in 300-D space (and vice-versa).\n",
    "\n",
    "[Demo](https://rusvectores.org/ru/visual/)"
   ]
  },
  {
   "cell_type": "markdown",
   "metadata": {
    "slideshow": {
     "slide_type": "subslide"
    }
   },
   "source": [
    "## Intrinsic Evaluation\n",
    "\n",
    "**Intrinsic** evaluations are those where you can use embeddings to perform relatively simple, word-related tasks.\n",
    "\n",
    " - **Absolute intrinsic**: you have a (human annotated) gold standard for a particular task and use the embeddings to make predictions.\n",
    " - **Comparative intrinsic**: you use the embedding space to present predictions to humans, who then rate them. Mostly used when there is no gold standard available.\n",
    " \n",
    "Tasks:\n",
    " - **Relatedness**: How well do embeddings capture human-perceived word similarity? Datasets typically consist of triples: two words and a similarity score (e.g. between 0.0 and 1.0). Several available datasets, although interpretation of 'word similarity' can vary.\n",
    " - **Synonym detection**: Can embeddings select a synonym for a given word and a set of options? Datasts are n-tuples where the first word is the input word and the other `n-1` words are the options. Only one of the options is a synonym.\n",
    " - **Analogy**: Do embeddings encode relations between words? Datasets are 4-tuples: the first two words define the relation, the third word is the source of the query and the fourth word is the solution. Good embeddings should predict an embedding close to the solution word.\n",
    " - **Categorization**: Can embeddings be clustered into hand-annotated categories? Datasets are word-category pairs. Standard clustering algorithms can then be used to generate k-clusters and the purity of the clusters can be computed.\n",
    " - **Selectional preference**: Can embeddings predict whether a noun-verb pair is more likely to represent a verb-subject or a verb-object relation? E.g. people-eat is more likely to be found as a verb-subject."
   ]
  },
  {
   "cell_type": "markdown",
   "metadata": {
    "slideshow": {
     "slide_type": "subslide"
    }
   },
   "source": [
    "## Extrinsic Evaluation\n",
    "\n",
    "In Extrinsic Evaluations, we have a more complex task we are interested in (e.g. text classification, text translation, image captioning), whereby we can use embeddings as a way to represent words (or tokens). Assuming we have:\n",
    " - a model architecture and \n",
    " - a corpus for training and evaluation (for which the embeddings provide adequate coverage), \n",
    " \n",
    "we can then train the model using different embeddings and evaluate its overall performance. The idea is that better embeddings will make it easier for the model to learn the overall task.\n"
   ]
  },
  {
   "cell_type": "markdown",
   "metadata": {
    "slideshow": {
     "slide_type": "subslide"
    }
   },
   "source": [
    "# Pretrained embeddings vs embedding learning\n",
    "\n",
    "People have trained word2vec-like models on huge datasets:\n",
    "* https://rusvectores.org/ru/models/\n",
    "* https://github.com/RaRe-Technologies/gensim-data#models\n",
    "* etc..\n",
    "\n",
    "On the other hand you have some text corpus for your specific task. Should you learn your own embeddings or use pretrained ones?\n",
    "* Depends on your task\n",
    "    * simple task - use pretrained\n",
    "* Depends on your dataset size\n",
    "    * not enough data - use pretrained"
   ]
  },
  {
   "cell_type": "markdown",
   "metadata": {
    "slideshow": {
     "slide_type": "subslide"
    }
   },
   "source": [
    "# Out Of Vocabulary situation\n",
    "\n",
    "Once w2v model is trained it stores vectors for words that are found in vocabulary\n",
    "\n",
    "* **Option 1** - introduce special token \"UNK\" and replace OOV words with it\n",
    "* **Option 2** - use subword information: [fastText](https://fasttext.cc/)\n",
    "\n",
    "<center><img src=img/fasttext_idea.png width=600></center>"
   ]
  },
  {
   "cell_type": "markdown",
   "metadata": {
    "slideshow": {
     "slide_type": "subslide"
    }
   },
   "source": [
    "## Embeddings for sentences and documents\n",
    "\n",
    "* **Option 1** - aggregate word embeddings (average, sum, tf-idf)\n",
    "* **Option 2** - use specific models like doc2vec, sent2vec, [etc](https://towardsdatascience.com/document-embedding-techniques-fed3e7a6a25d)\n",
    "* **Option 3** - use neural networks =)"
   ]
  },
  {
   "cell_type": "markdown",
   "metadata": {
    "slideshow": {
     "slide_type": "subslide"
    }
   },
   "source": [
    "# Anything2Vec\n",
    "\n",
    "* Ideas of word2vec can be transfered to any domain with proper data structure\n",
    "\n",
    "* Action2Vec\n",
    "    * Vocabulary: different tupes of user actions (clicks, cart actions, etc)\n",
    "    * Texts: sequence of actions\n",
    "* Node2Vec\n",
    "    * Vocabulary: node ids\n",
    "    * Texts: sequence of node ids obtained via random walks\n",
    "* URL2Vec\n",
    "    * Vocabulary: urls\n",
    "    * Texts: user sessions\n",
    "    "
   ]
  },
  {
   "cell_type": "markdown",
   "metadata": {
    "slideshow": {
     "slide_type": "subslide"
    }
   },
   "source": [
    "# References\n",
    "* On word embeddings series (Sebastian Ruder) [[blog]](https://ruder.io/secret-word2vec/index.html)\n",
    "* Distributed Representations of Words and Phrases and their Compositionality (Mikolov et al., 2013) [[arxiv]](https://arxiv.org/abs/1310.4546)\n",
    "* Efficient Estimation of Word Representations in Vector Space (Mikolov et al., 2013) [[arxiv]](https://arxiv.org/abs/1301.3781)\n",
    "* Distributed Representations of Sentences and Documents (Quoc Le et al., 2014) [[arxiv]](https://arxiv.org/abs/1405.4053)\n",
    "- Enriching word vectors with subword information (Bojanowski et al., 2016) [[arxiv]](https://arxiv.org/abs/1607.04606) (FastText)\n",
    "* GloVe project [page](https://nlp.stanford.edu/projects/glove/)\n",
    "* FastText project [repo](https://github.com/facebookresearch/fastText)"
   ]
  },
  {
   "cell_type": "markdown",
   "metadata": {
    "slideshow": {
     "slide_type": "slide"
    }
   },
   "source": [
    "# Supplimentary material: t-SNE\n",
    "## t-distributed stochastic neighbor embedding"
   ]
  },
  {
   "cell_type": "markdown",
   "metadata": {
    "slideshow": {
     "slide_type": "subslide"
    }
   },
   "source": [
    "## Multidimentional scaling - intuinition\n",
    "\n",
    "Find feature space with lesser dimentions s.t. **distances** in initial space are conserved in the new one. A bit more formally:\n",
    "\n",
    "* Given $X = [x_1,\\dots, x_n]\\in \\mathbb{R}^{N \\times D}$ and/or $\\delta_{ij}$ - proximity measure between $(x_i,x_j)$ in initial feature space.\n",
    "* Find $Y = [y_1,\\dots,y_n] \\in \\mathbb{R}^{N \\times d}$ such that $\\delta_{ij} \\approx d(y_i, y_j) = \\|y_i-y_j\\|^2$\n",
    "\n",
    "<center><img src='img/mds.png' width =1200></center>"
   ]
  },
  {
   "cell_type": "markdown",
   "metadata": {
    "slideshow": {
     "slide_type": "subslide"
    }
   },
   "source": [
    "## Multidimentional scaling\n",
    "\n",
    "It is clear, that most of the times distances won't be conserved completely:\n",
    "<center><img src='img/sphere_example.png'></center>"
   ]
  },
  {
   "cell_type": "markdown",
   "metadata": {
    "slideshow": {
     "slide_type": "subslide"
    }
   },
   "source": [
    "## Multidimentional scaling approaches\n",
    "\n",
    "* classical MDS (essentially PCA)\n",
    "* metric MDS\n",
    "* non-metric MDS\n",
    "\n",
    "\n",
    "* But what if we want to conserve not the distances themselves, but the structure of inital dataset? Like neighbourhood of each point? \n",
    "* Here comes t-SNE !!!"
   ]
  },
  {
   "cell_type": "markdown",
   "metadata": {
    "slideshow": {
     "slide_type": "subslide"
    }
   },
   "source": [
    "## T-SNE\n",
    "\n",
    "* t-SNE - is not multidimentional scaling, but the goal is somewhat similar\n",
    "* There are going to be 3 types of similarities:\n",
    "    * Similarity between points in initial feature space\n",
    "    * Similarity between points in derived feature space\n",
    "    * Similarity between feature spaces!"
   ]
  },
  {
   "cell_type": "markdown",
   "metadata": {
    "slideshow": {
     "slide_type": "subslide"
    }
   },
   "source": [
    "## T-SNE\n",
    "\n",
    "* Similarity between points in initial feature space $\\mathbb{R}^D$\n",
    "$$\n",
    "p(i, j) = \\frac{p(i | j) + p(j | i)}{2N}, \\quad p(j | i) = \\frac{\\exp(-\\|\\mathbf{x}_j-\\mathbf{x}_i\\|^2/{2 \\sigma_i^2})}{\\sum_{k \\neq i}\\exp(-\\|\\mathbf{x}_k-\\mathbf{x}_i\\|^2/{2 \\sigma_i^2})}\n",
    "$$\n",
    "$\\sigma_i$ is set by user (implicitly)\n",
    "* Similarity between points in derived feature space $\\mathbb{R}^d, d << D$\n",
    "$$\n",
    "q(i, j) = \\frac{g(|\\mathbf{y}_i - \\mathbf{y}_j|)}{\\sum_{k \\neq l} g(|\\mathbf{y}_i - \\mathbf{y}_j|)}\n",
    "$$ \n",
    "where $g(z) = \\frac{1}{1 + z^2}$ - is student t-distribution with dof=$1$\n",
    "* Similarity between feature spaces (Kullback–Leibler divergence)\n",
    "$$\n",
    "J_{t-SNE}(y) = KL(P \\| Q) = \\sum_i \\sum_j p(i, j) \\log \\frac{p(i, j)}{q(i, j)} \\rightarrow \\min\\limits_{\\mathbf{y}}\n",
    "$$"
   ]
  },
  {
   "cell_type": "markdown",
   "metadata": {
    "slideshow": {
     "slide_type": "subslide"
    }
   },
   "source": [
    "## KL-Divergence\n",
    "$$\n",
    "KL(P \\| Q) = \\sum_z P(z) \\log \\frac{P(z)}{Q(z)}\n",
    "$$\n",
    "\n",
    "<center><img src='img/kld.png' width=1000></center>"
   ]
  },
  {
   "cell_type": "markdown",
   "metadata": {
    "slideshow": {
     "slide_type": "subslide"
    }
   },
   "source": [
    "## Optimization\n",
    "\n",
    "* Optimize $J_{t-SNE}(y)$ with SGD\n",
    "\n",
    "$$\\frac{\\partial J_{t-SNE}}{\\partial y_i}=4 \\sum_j(p(i,j)−q(i,j))(y_i−y_j)g(|y_i−y_j|)$$\n",
    "\n",
    "* [Article](http://jmlr.csail.mit.edu/papers/volume9/vandermaaten08a/vandermaaten08a.pdf)\n",
    "* [Examples](http://lvdmaaten.github.io/tsne/)\n",
    "* [Demo and advises](http://distill.pub/2016/misread-tsne/)\n",
    "    * t-SNE is unstable\n",
    "    * Size of clusters means anything\n",
    "    * Distance means anything\n",
    "    * Random data can provide structure"
   ]
  }
 ],
 "metadata": {
  "celltoolbar": "Slideshow",
  "kernelspec": {
   "display_name": "Python 3",
   "language": "python",
   "name": "python3"
  },
  "language_info": {
   "codemirror_mode": {
    "name": "ipython",
    "version": 3
   },
   "file_extension": ".py",
   "mimetype": "text/x-python",
   "name": "python",
   "nbconvert_exporter": "python",
   "pygments_lexer": "ipython3",
   "version": "3.7.3"
  },
  "livereveal": {
   "theme": "serif",
   "transition": "concave"
  },
  "toc": {
   "base_numbering": 1,
   "nav_menu": {},
   "number_sections": false,
   "sideBar": true,
   "skip_h1_title": false,
   "title_cell": "Table of Contents",
   "title_sidebar": "Contents",
   "toc_cell": false,
   "toc_position": {},
   "toc_section_display": true,
   "toc_window_display": false
  }
 },
 "nbformat": 4,
 "nbformat_minor": 4
}
