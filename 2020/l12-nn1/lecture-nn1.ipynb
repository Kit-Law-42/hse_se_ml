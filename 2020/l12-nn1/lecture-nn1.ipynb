{
 "cells": [
  {
   "cell_type": "markdown",
   "metadata": {
    "slideshow": {
     "slide_type": "slide"
    }
   },
   "source": [
    "<center><img src=\"img/logo_hse_black.jpg\"></center>\n",
    "\n",
    "<h1><center>Data Analysis</center></h1>\n",
    "<h3><center>Andrey Shestakov (<a href=\"mailto:avshestakov@hse.ru\">avshestakov@hse.ru</a>)</center></h3>\n",
    "<hr>\n",
    "<h2><center>Neural Networks 1<sup><a href=\"#fn1\" id=\"ref1\">1</a></sup></center></h2>\n",
    "\n",
    "\n",
    "\n",
    "<sup id=\"fn1\">1. Some materials are taken from <a href=\"http://www.machinelearning.ru/wiki/index.php?title=%D0%9C%D0%B0%D1%82%D0%B5%D0%BC%D0%B0%D1%82%D0%B8%D1%87%D0%B5%D1%81%D0%BA%D0%B8%D0%B5_%D0%BC%D0%B5%D1%82%D0%BE%D0%B4%D1%8B_%D1%80%D0%B0%D1%81%D0%BF%D0%BE%D0%B7%D0%BD%D0%B0%D0%B2%D0%B0%D0%BD%D0%B8%D1%8F_%D0%BE%D0%B1%D1%80%D0%B0%D0%B7%D0%BE%D0%B2_%28%D0%BA%D1%83%D1%80%D1%81_%D0%BB%D0%B5%D0%BA%D1%86%D0%B8%D0%B9%2C_%D0%92.%D0%92.%D0%9A%D0%B8%D1%82%D0%BE%D0%B2%29\">machine learning course of Victor Kitov</a></sup>"
   ]
  },
  {
   "cell_type": "code",
   "execution_count": 1,
   "metadata": {
    "slideshow": {
     "slide_type": "notes"
    }
   },
   "outputs": [],
   "source": [
    "%matplotlib inline"
   ]
  },
  {
   "cell_type": "code",
   "execution_count": 2,
   "metadata": {
    "slideshow": {
     "slide_type": "notes"
    }
   },
   "outputs": [],
   "source": [
    "import pandas as pd\n",
    "import numpy as np\n",
    "import matplotlib.pyplot as plt\n",
    "\n",
    "plt.style.use('seaborn-talk')\n",
    "plt.rcParams['figure.figsize'] = (18,12)\n",
    "\n",
    "# Для кириллицы на графиках\n",
    "font = {'family': 'Verdana',\n",
    "        'weight': 'normal'}\n",
    "plt.rc('font', **font)\n",
    "\n",
    "from ipywidgets import interact, IntSlider, fixed, FloatSlider\n",
    "    \n",
    "import warnings\n",
    "warnings.filterwarnings('ignore')"
   ]
  },
  {
   "cell_type": "markdown",
   "metadata": {
    "slideshow": {
     "slide_type": "slide"
    }
   },
   "source": [
    "# Let's recall previous lecture\n",
    "\n",
    "## Boosting, Ensembles\n",
    "\n",
    "* Construction of multiple models to increase model quality\n",
    "    * In parallel (Bagging, Blending, Stacking, Random Forest)\n",
    "    * Sequentially (Boosting)\n",
    "* Works great!\n",
    "* Hard to interpret"
   ]
  },
  {
   "cell_type": "markdown",
   "metadata": {
    "slideshow": {
     "slide_type": "slide"
    }
   },
   "source": [
    "# Neural Networks"
   ]
  },
  {
   "cell_type": "markdown",
   "metadata": {
    "slideshow": {
     "slide_type": "subslide"
    }
   },
   "source": [
    "## History\n",
    "\n",
    "* Neural networks originally appeared as an attempt to model human brain\n",
    "<style type=\"text/css\">\n",
    ".tg  {border-collapse:collapse;border-spacing:0;}\n",
    ".tg td{font-family:Arial, sans-serif;font-size:14px;padding:10px 5px;border-style:solid;border-width:1px;overflow:hidden;word-break:normal;}\n",
    ".tg th{font-family:Arial, sans-serif;font-size:14px;font-weight:normal;padding:10px 5px;border-style:solid;border-width:1px;overflow:hidden;word-break:normal;}\n",
    "</style>\n",
    "<table class=\"tg\">\n",
    "  <tr>\n",
    "    <th class=\"tg-031e\"> <img width=400 src='img/Human brain.jpg'></th>\n",
    "    <th class=\"tg-031e\"> <img width=500 src='img/neural-network-cells.jpg'></th>\n",
    "  </tr>\n",
    "</table>\n",
    "* Human brain consists of multiple interconnected neuron cells \n",
    "\n",
    "    * cerebral cortex (the largest part) is estimated to contain 15-33 billion neurons\n",
    "    * communication is performed by sending electrical and electro-chemical signals\n",
    "    * signals are transmitted through axons - long thin parts of neurons. "
   ]
  },
  {
   "cell_type": "markdown",
   "metadata": {
    "slideshow": {
     "slide_type": "subslide"
    }
   },
   "source": [
    "## [History](https://www.import.io/post/history-of-deep-learning/)\n",
    "\n",
    "* 1943 – The first mathematical model of a neural network (Walter Pitts and Warren McCulloch)\n",
    "* 1957 – Setting the foundation for deep neural networks (Frank Rosenblatt)\n",
    "* 1965 – The first working deep learning networks\n",
    "* 1979-80 – An ANN learns how to recognize visual patterns\n",
    "* 1982 – The creation of the Hopfield Networks\n",
    "* 1989 – Machines read handwritten digits (Yann LeCun)\n",
    "* 1997 – Long short-term memory was proposed (Jürgen Schmidhuber and Sepp Hochreiter)\n",
    "* 1998 – Gradient-based learning (Yann LeCun)\n",
    "* 2011 – Creation of AlexNet\n",
    "* 2014 – Generative Adversarial Networks (GAN)"
   ]
  },
  {
   "cell_type": "markdown",
   "metadata": {
    "slideshow": {
     "slide_type": "subslide"
    }
   },
   "source": [
    "## Simple model of a neuron\n",
    "\n",
    "<center><img src='img/neuron-diagram.jpg'></center>\n",
    "\n",
    "* Neuron get's activated in the half-space, defined by $b+w_{1}x^{1}+w_{2}x^{2}+...+w_{D}x^{D}\\ge0$.\n",
    "* Each node is called a **neuron**\n",
    "* Each edge is associated a **weight**\n",
    "* Constant feature $b$ stands for **bias** (some times reffered as $w_0$)\n"
   ]
  },
  {
   "cell_type": "markdown",
   "metadata": {
    "slideshow": {
     "slide_type": "subslide"
    }
   },
   "source": [
    "## Multilayer perceptron architecture\n",
    "\n",
    "* Hierarchically nested set of neurons.\n",
    "* Each node has its own weights.\n",
    "\n",
    "<center><img src='img/mpl.png'></center>\n",
    "\n",
    "This is structure of multilayer perceptron - acyclic directed graph."
   ]
  },
  {
   "cell_type": "markdown",
   "metadata": {
    "slideshow": {
     "slide_type": "subslide"
    }
   },
   "source": [
    "## Layers\n",
    "\n",
    "<center><img src='img/Neural_network_achitecture.png'></center>\n",
    "\n",
    "* Structure of neural network: \n",
    "    * 1-input layer\n",
    "    * 2-hidden layers\n",
    "    * 3-output layer"
   ]
  },
  {
   "cell_type": "markdown",
   "metadata": {
    "slideshow": {
     "slide_type": "subslide"
    }
   },
   "source": [
    "## Continious activations\n",
    "* Pitfall of $\\mathbb{I}[]$: it causes stepwise constant outputs, weight optimization methods become inapliccable.\n",
    "* We can replace $\\mathbb{I}[w^{T}x+w_{0}\\ge0]$ with smooth activation $f(w^{T}x+w_{0})$ \n",
    "\n",
    "<center><img src='img/sigmoid approximates step function.png'></center>"
   ]
  },
  {
   "cell_type": "markdown",
   "metadata": {
    "slideshow": {
     "slide_type": "subslide"
    }
   },
   "source": [
    "## Typical activation functions\n",
    "\n",
    "* sigmoidal: $\\sigma(x)=\\frac{1}{1+e^{-x}}$ \n",
    "     * 1-layer neural network with sigmoidal activation is equivalent to logistic regression\n",
    "     <center><img src='img/sigmoid-activation-function.png', width=700></center>\n",
    "* hyperbolic tangent: $tangh(x)=\\frac{e^{x}-e^{-x}}{e^{x}+e^{-x}}$ \n",
    "    <center><img src='img/tanh-1.png', width=700></center>\n"
   ]
  },
  {
   "cell_type": "markdown",
   "metadata": {
    "slideshow": {
     "slide_type": "subslide"
    }
   },
   "source": [
    "## Typical activation functions\n",
    "     \n",
    "* ReLU: $f(x)=[x]_{+}$.\n",
    "\n",
    "<center><img src='img/relu-activation-function-1.png', width=700></center>"
   ]
  },
  {
   "cell_type": "markdown",
   "metadata": {
    "slideshow": {
     "slide_type": "subslide"
    }
   },
   "source": [
    "## Activation function zoo\n",
    "\n",
    "<center><img src='img/activ_functions.png', width=1200></center>"
   ]
  },
  {
   "cell_type": "markdown",
   "metadata": {
    "slideshow": {
     "slide_type": "subslide"
    }
   },
   "source": [
    "<center><img src='img/nn_zoo.jpg'></center>"
   ]
  },
  {
   "cell_type": "markdown",
   "metadata": {
    "slideshow": {
     "slide_type": "subslide"
    }
   },
   "source": [
    "## [TensorFlow PlayGround](https://playground.tensorflow.org)"
   ]
  },
  {
   "cell_type": "markdown",
   "metadata": {
    "slideshow": {
     "slide_type": "slide"
    }
   },
   "source": [
    "# Output Generation"
   ]
  },
  {
   "cell_type": "markdown",
   "metadata": {
    "slideshow": {
     "slide_type": "subslide"
    }
   },
   "source": [
    "## Output generation\n",
    "\n",
    "* Forward propagation is a process of successive calculations of neuron outputs for given features.\n",
    "\n",
    "<center><img src='img/Forward propagation.png'></center>"
   ]
  },
  {
   "cell_type": "markdown",
   "metadata": {
    "slideshow": {
     "slide_type": "subslide"
    }
   },
   "source": [
    "## Definition details\n",
    "\n",
    "\n",
    "* Label each neuron with integer $j$.\n",
    "* Denote: $I_{j}$ - input to neuron $j$, $O_{j}$ - output of neuron $j$\n",
    "* Input to neuron $j$: $I_{j}=\\sum_{k\\in inc(j)}w_{kj}O_{k}+w_{0j}$,\n",
    "* Output of neuron $j$: $O_{j}=f(I_{j})$.\n",
    "\n",
    "    * $w_{0j}$ is the bias term\n",
    "    * $f(x)$ is the activation function\n",
    "    * $inc(j)$ is a set of neurons with outgoing edges incoming to neuron $j$.\n",
    "    * further we will assume that at each layer there is a vertex with constant output $O_{const}\\equiv1$, so we can simplify notation\n",
    "\n",
    "$$\n",
    "I_{j}=\\sum_{k\\in inc(j)}w_{kj}O_{k} \n",
    "$$"
   ]
  },
  {
   "cell_type": "markdown",
   "metadata": {
    "slideshow": {
     "slide_type": "subslide"
    }
   },
   "source": [
    "## Activations at output layer\n",
    "\n",
    "* **Regression**: $f(I)=I$ (linear activation)\n",
    "* **Classification**:\n",
    "    * binary: $y\\in\\{+1,-1\\}$\n",
    "$$\n",
    "f(I)=p(y=+1|x)=\\frac{1}{1+e^{-I}}\n",
    "$$\n",
    "    * multiclass: $y\\in{1,2,...C}$\n",
    "$$\n",
    "f(I_{1},...I_{C})=p(y=j|x)=\\frac{e^{I_{j}}}{\\sum_{k=1}^{C}e^{I_{k}}},\\,j=1,2,...C\n",
    "$$\n",
    "where $I_{1},...I_{C}$ are inputs of output layer."
   ]
  },
  {
   "cell_type": "markdown",
   "metadata": {
    "slideshow": {
     "slide_type": "subslide"
    }
   },
   "source": [
    "## Generalizations\n",
    "\n",
    "* each neuron $j$ may have custom non-linear transformation $f_{j}$\n",
    "* weights may be constrained:\n",
    "    * non-negative\n",
    "    * equal weights\n",
    "    * etc.\n",
    "* layer skips are possible\n",
    "<center><img src=\"img/Layer skipping.png\"></center>\n",
    "* Not considered here: RBF-networks, recurrent networks."
   ]
  },
  {
   "cell_type": "markdown",
   "metadata": {
    "slideshow": {
     "slide_type": "subslide"
    }
   },
   "source": [
    "## Number of layers selection\n",
    "\n",
    "* Number of layers usually denotes all layers except input layer (hidden layers+output layer)\n",
    "\n",
    "* **Classification**:\n",
    "\n",
    "    * single layer network selects arbitrary half-spaces\n",
    "    * 2-layer network selects arbitrary convex polyhedron (by intersection of 1-layer outputs)\n",
    "        * therefore it can approximate arbitrary convex sets\n",
    "    * 3-layer network selects (by union of 2-layer outputs) arbitrary finite sets of polyhedra\n",
    "        * therefore it can approximate almost all sets with well defined volume"
   ]
  },
  {
   "cell_type": "markdown",
   "metadata": {
    "slideshow": {
     "slide_type": "subslide"
    }
   },
   "source": [
    "## Number of layers selection\n",
    "\n",
    "* **Regression**:\n",
    "    * single layer can approximate arbitrary linear function\n",
    "    * 2-layer network can model indicator function of arbitrary convex polyhedron\n",
    "    * 3-layer network can uniformly approximate arbitrary continuous function (as sum weighted sum of indicators convex polyhedra)\n",
    "\n",
    "\n",
    "* **Sufficient amount of layers**\n",
    "\n",
    "<center> Any continuous function on a compact space can be uniformly approximated\n",
    "by 2-layer neural network with linear output and wide range of activation\n",
    "functions (excluding polynomial).  </center>\n",
    "\n",
    "* In practice often it is more convenient to use more layers with less total amount of neurons\n",
    "    * model becomes more interpretable and easy to fit."
   ]
  },
  {
   "cell_type": "markdown",
   "metadata": {
    "slideshow": {
     "slide_type": "slide"
    }
   },
   "source": [
    "# Neural network optimization"
   ]
  },
  {
   "cell_type": "markdown",
   "metadata": {
    "slideshow": {
     "slide_type": "subslide"
    }
   },
   "source": [
    "## Network optimization: regression\n",
    "\n",
    "* Single output:\n",
    "\n",
    "$$\n",
    "\\frac{1}{N}\\sum_{n=1}^{N}(\\widehat{y}_{n}(x_{n})-y_{n})^{2}\\to\\min_{w}\n",
    "$$\n",
    "* K outputs\n",
    "\n",
    "$$\n",
    "\\frac{1}{NK}\\sum_{n=1}^{N}\\sum_{k=1}^{K}(\\widehat{y}_{nk}(x_{n})-y_{nk})^{2}\\to\\min_{w}\n",
    "$$"
   ]
  },
  {
   "cell_type": "markdown",
   "metadata": {
    "slideshow": {
     "slide_type": "subslide"
    }
   },
   "source": [
    "## Network optimization: classification\n",
    "\n",
    "* Two classes ($y\\in\\{0,1\\}$):\n",
    "\n",
    "$$\n",
    "\\prod_{n=1}^{N}p(y_{n}=1|x_{n})^{y_{n}}(1-p(y_{n}=1|x_{n})){}^{1-y_{n}}\\to\\max_{w}\n",
    "$$\n",
    "\n",
    "* $C$ classes ($y_{nc}=\\mathbb{I}\\{y_{n}=c\\}$):\n",
    "\n",
    "$$\n",
    "\\prod_{n=1}^{N}\\prod_{c=1}^{C}p(y_{n}=c|x_{n})^{y_{nc}}\\to\\max_{w}\n",
    "$$\n",
    "* In practice log-likelihood  (cross-entropy) is maximized"
   ]
  },
  {
   "cell_type": "markdown",
   "metadata": {
    "slideshow": {
     "slide_type": "subslide"
    }
   },
   "source": [
    "## Neural network optimization\n",
    "\n",
    "* Let $L(\\widehat{y},y)$ denote the loss function of output\n",
    "\n",
    "\n",
    "* We may optimize neural network using gradient descent:\n",
    "    \n",
    "        k=0\n",
    "        initialize randomly w_0 # small values for sigmoid and tangh\n",
    "\n",
    "        while stop criteria not met:\n",
    "            w_k+1 := w_k - alpha * grad(L(w_k))\n",
    "            k := k+1\n",
    "\n",
    "* Standardization of features makes gradient descend converge faster\n",
    "* But how exactly do we efficiently calculate grad(L(w_k))?"
   ]
  },
  {
   "cell_type": "markdown",
   "metadata": {
    "slideshow": {
     "slide_type": "subslide"
    }
   },
   "source": [
    "# Backpropagation algorithm\n",
    "\n",
    "<center><img src='img/backprop_spidey.jpeg', width=800></center>"
   ]
  },
  {
   "cell_type": "markdown",
   "metadata": {
    "slideshow": {
     "slide_type": "subslide"
    }
   },
   "source": [
    "## Idea\n",
    "\n",
    "<center><img src='img/backprop.png'></center>"
   ]
  },
  {
   "cell_type": "markdown",
   "metadata": {
    "slideshow": {
     "slide_type": "subslide"
    }
   },
   "source": [
    "## Definitions\n",
    "\n",
    "* Denote $w_{ij}$ as weight of edge, connecting $i$-th and $j$-th neuron\n",
    "* Define $\\delta_j = \\frac{\\partial L}{\\partial I_j} =  \\frac{\\partial L}{\\partial O_j}\\frac{\\partial O_j}{\\partial I_j}$\n",
    "* Since $L$ depends on $w_{ij}$ through the following functional relationship $L(w_{ij}) = L\\left(O_j\\left(I_j(w_{ij})\\right)\\right)$, using the chain rule we get:\n",
    "$$ \\frac{\\partial L}{\\partial w_{ij}} = \\frac{\\partial L}{\\partial I_j}\\frac{\\partial I_j}{\\partial w_{ij}} = \\delta_j O_i$$\n",
    "because $\\frac{\\partial I_j}{\\partial w_{ij}} = \\frac{\\partial}{\\partial w_{ij}} \\left(\\sum\\limits_{k\\in inc(j)} w_{kj} O_k\\right) = O_i$, where $inc(j)$ is a set of neurons with outgoing edges to neuron $j$\n"
   ]
  },
  {
   "cell_type": "markdown",
   "metadata": {
    "slideshow": {
     "slide_type": "subslide"
    }
   },
   "source": [
    "## Output layer\n",
    "\n",
    "* If neuron $j$ belongs to the output node, then error $\\frac{\\partial L}{\\partial O_j}$ is calculated easily\n",
    "* For output layer $\\delta_j$ are calculated directly:\n",
    "$$ \\delta_j= \\frac{\\partial L}{\\partial O_j}\\frac{\\partial O_j}{\\partial I_j} = \\frac{\\partial L}{\\partial O_j} f'(I_j) \\qquad (1)$$\n",
    "* Example (single point $x$ and true vector of outputs $(y_1,\\dots,y_{|OL|})$:\n",
    "    * For $L = \\frac{1}{2}\\sum\\limits_{j\\in OL}(O_j - y_j)^2$ and sigmoid activation\n",
    "    $$ \\frac{\\partial L}{\\partial O_j} = O_j - y_j $$\n",
    "    * Sigmoid activation function $O_j = \\sigma(I_j)$:\n",
    "    $$ f'(I_j) = \\sigma(I_j)(1-\\sigma(I_j)) = O_j(1-O_j) $$\n",
    "    * finally\n",
    "    $$ \\delta_j = (O_j - y_j)O_j(1-O_j)$$"
   ]
  },
  {
   "cell_type": "markdown",
   "metadata": {
    "slideshow": {
     "slide_type": "subslide"
    }
   },
   "source": [
    "## Inner layer\n",
    "\n",
    "* If neuron $j$ belongs to some hidden layer, denote $out(j) = \\{k_1, k_2, \\dots, k_m\\}$ the set of all neurons, receiving output of neuron $j$ as their input\n",
    "* The effect of $O_j$ on $L$ is fully absorbed by $I_{k_1},I_{k_2},\\dots,I_{k_m}$, so\n",
    "$$ \\frac{\\partial L(O_j)}{\\partial O_j} = \\frac{\\partial L(I_{k_1},I_{k_2},\\dots,I_{k_m})}{\\partial O_j} = \\sum\\limits_{k\\in out(j)} \\left( \\frac{\\partial L}{\\partial I_k} \\frac{\\partial I_k}{\\partial O_j} \\right) = \\sum\\limits_{k\\in out(j)} \\left(\\delta_k w_{jk}\\right)$$\n",
    "* So for layers other than output layer we have:\n",
    "$$ \\delta_j = \\frac{\\partial L}{\\partial I_j} =  \\frac{\\partial L}{\\partial O_j}\\frac{\\partial O_j}{\\partial I_j} = \\sum\\limits_{k\\in out(j)} \\left(\\delta_k w_{jk}\\right) f'(I_j) \\qquad (2)$$\n",
    "* Weight derivatives are calculated using errors and outputs:\n",
    "$$ \\frac{\\partial L}{\\partial w_{ij}} = \\frac{\\partial L}{\\partial I_j}\\frac{\\partial I_j}{\\partial w_{ij}} = \\delta_jO_i \\qquad (3)$$\n"
   ]
  },
  {
   "cell_type": "markdown",
   "metadata": {
    "slideshow": {
     "slide_type": "subslide"
    }
   },
   "source": [
    "## Backprop\n",
    "\n",
    "1. Forward propagate $x_n$ to the neural network, store all inputs $I_j$ and outputs $O_j$ for each neuron\n",
    "2. Calculate $\\delta_i$ for all $i \\in$ output layer using $(1)$\n",
    "$$ \\delta_j = \\frac{\\partial L}{\\partial O_j} f'(I_j) $$\n",
    "3. Propagate $\\delta_i$ from final layer back layer by layer $(2)$\n",
    "$$ \\delta_j = \\sum\\limits_{k\\in out(j)} \\left(\\delta_k w_{jk}\\right) f'(I_j)$$\n",
    "4. Using calculated deltas and outputs calculate $\\frac{\\partial L}{\\partial w_{ij}}$ with $(3)$\n",
    "$$ \\frac{\\partial L}{\\partial w_{ij}} = \\delta_jO_i $$\n",
    "And update weights\n"
   ]
  },
  {
   "cell_type": "markdown",
   "metadata": {
    "slideshow": {
     "slide_type": "subslide"
    }
   },
   "source": [
    "<center><img src='img/backprop2.gif'></center>"
   ]
  },
  {
   "cell_type": "markdown",
   "metadata": {
    "slideshow": {
     "slide_type": "subslide"
    }
   },
   "source": [
    "### Multiple local optima problem\n",
    "\n",
    "* Optimization problem for neural nets is **non-convex**.\n",
    "* Different optima will correspond to:\n",
    "    * different starting parameter values\n",
    "    * different training samples\n",
    "\n",
    "* So we may solve task many times for different conditions and then\n",
    "    * select best model\n",
    "    * alternatively: average different obtained models to get ensemble\n",
    "\n",
    "* And/Or use some complex optimization methods\n",
    "<center><img src='img/optimization.gif'></center>"
   ]
  },
  {
   "cell_type": "code",
   "execution_count": 3,
   "metadata": {
    "slideshow": {
     "slide_type": "notes"
    }
   },
   "outputs": [],
   "source": [
    "def sigmoid(x):\n",
    "    return 1./(np.exp(-x) + 1)"
   ]
  },
  {
   "cell_type": "markdown",
   "metadata": {
    "slideshow": {
     "slide_type": "subslide"
    }
   },
   "source": [
    "### Vanishing Gradient Problem"
   ]
  },
  {
   "cell_type": "code",
   "execution_count": 4,
   "metadata": {
    "slideshow": {
     "slide_type": "fragment"
    }
   },
   "outputs": [
    {
     "data": {
      "text/plain": [
       "[<matplotlib.lines.Line2D at 0x120210da0>]"
      ]
     },
     "execution_count": 4,
     "metadata": {},
     "output_type": "execute_result"
    },
    {
     "data": {
      "image/png": "[encoded data removed]",
      "text/plain": [
       "<Figure size 864x576 with 1 Axes>"
      ]
     },
     "metadata": {
      "needs_background": "light"
     },
     "output_type": "display_data"
    }
   ],
   "source": [
    "x = np.linspace(-10, 10, 1000)\n",
    "gr_sigm = sigmoid(x)*(1-sigmoid(x))\n",
    "\n",
    "plt.plot(x, gr_sigm)"
   ]
  },
  {
   "cell_type": "markdown",
   "metadata": {
    "slideshow": {
     "slide_type": "fragment"
    }
   },
   "source": [
    "* Feature scaling\n",
    "* Careful weight initialization\n",
    "* Using ReLU activation function"
   ]
  },
  {
   "cell_type": "markdown",
   "metadata": {
    "slideshow": {
     "slide_type": "subslide"
    }
   },
   "source": [
    "## Model complexity and overfitting\n",
    "\n",
    "* Constrain model directly:\n",
    "    * constrain number of neurons\n",
    "    * constrain number of layes\n",
    "    * impose constraints on weights\n",
    "* Take a flexible model\n",
    "    * early stopping (with validation set)\n",
    "    * L2 regularization\n",
    "    $$ L(w) + \\lambda\\sum_i w_i^2 $$\n",
    "* Augmentation (more used in convnets)"
   ]
  },
  {
   "cell_type": "markdown",
   "metadata": {
    "slideshow": {
     "slide_type": "slide"
    }
   },
   "source": [
    "# Other things to know"
   ]
  },
  {
   "cell_type": "markdown",
   "metadata": {
    "slideshow": {
     "slide_type": "subslide"
    }
   },
   "source": [
    "## Weight Initialization\n",
    "\n",
    "* Poor weight initialization can lead to vanishing or exploding gradient problem\n",
    "* Variance of a layer affects variance of the next one\n",
    "* Initialize weights in such manner to keep variance constant (Xavier initialization)\n",
    "* More [here](http://www.deeplearning.ai/ai-notes/initialization/)"
   ]
  },
  {
   "cell_type": "markdown",
   "metadata": {
    "slideshow": {
     "slide_type": "subslide"
    }
   },
   "source": [
    "## Dropout technique\n",
    "\n",
    "* Have L1 and L2 regularization for weights\n",
    "* Can complement it with Dropout\n",
    "<center><img src='img/dropout.png'></center>\n",
    "* Training: Dropout can be interpreted as sampling a Neural Network within the full Neural Network\n",
    "* Testing: not applied"
   ]
  },
  {
   "cell_type": "markdown",
   "metadata": {
    "slideshow": {
     "slide_type": "subslide"
    }
   },
   "source": [
    "## Batch Normalization\n",
    "\n",
    "* Bad Weight Initialization\n",
    "* Vanishing Gradients\n",
    "* Normalize data right before non-linearities (or after ?!)\n",
    "\n",
    "<center><img src='img/bn_algorithm.png' width=600></center>"
   ]
  },
  {
   "cell_type": "markdown",
   "metadata": {
    "slideshow": {
     "slide_type": "subslide"
    }
   },
   "source": [
    "## Conclusion\n",
    "\n",
    "* Advantages of neural networks:\n",
    "    * can model accurately complex non-linear relationships\n",
    "    * easily parallelizable\n",
    "\n",
    "* Disadvantages of neural networks:\n",
    "    * hardly interpretable (\"black-box\" algorithm)\n",
    "    * optimization requires skill\n",
    "        * too many parameters\n",
    "        * may converge slowly\n",
    "        * may converge to inefficient local minimum far from global one\n"
   ]
  },
  {
   "cell_type": "markdown",
   "metadata": {
    "slideshow": {
     "slide_type": "subslide"
    }
   },
   "source": [
    "# Useful Refs\n",
    "* [Yes you should understand backprop](https://medium.com/@karpathy/yes-you-should-understand-backprop-e2f06eab496b)\n",
    "* [CS231N](http://cs231n.github.io/)\n",
    "* [Livecoding Madness!](https://www.youtube.com/watch?v=o64FV-ez6Gw)"
   ]
  }
 ],
 "metadata": {
  "_draft": {
   "nbviewer_url": "https://gist.github.com/1f8c4751e12938961e423759861e6e5a"
  },
  "anaconda-cloud": {},
  "celltoolbar": "Slideshow",
  "gist": {
   "data": {
    "description": "CloudMail/hse-da-course/raw/lecture-intro/lecture-intro-v01.ipynb",
    "public": false
   },
   "id": "1f8c4751e12938961e423759861e6e5a"
  },
  "kernelspec": {
   "display_name": "Python 3",
   "language": "python",
   "name": "python3"
  },
  "language_info": {
   "codemirror_mode": {
    "name": "ipython",
    "version": 3
   },
   "file_extension": ".py",
   "mimetype": "text/x-python",
   "name": "python",
   "nbconvert_exporter": "python",
   "pygments_lexer": "ipython3",
   "version": "3.7.3"
  },
  "livereveal": {
   "theme": "serif",
   "transition": "concave"
  },
  "nav_menu": {},
  "toc": {
   "base_numbering": 1,
   "nav_menu": {
    "height": "513px",
    "width": "253px"
   },
   "number_sections": false,
   "sideBar": false,
   "skip_h1_title": false,
   "title_cell": "Table of Contents",
   "title_sidebar": "Contents",
   "toc_cell": false,
   "toc_position": {},
   "toc_section_display": "block",
   "toc_window_display": false
  },
  "toc_position": {
   "height": "32px",
   "left": "9px",
   "right": "1379px",
   "top": "33px",
   "width": "212px"
  },
  "widgets": {
   "state": {
    "54e80d57f79b4bfc934a2b84cf5fe7ba": {
     "views": [
      {
       "cell_index": 47
      }
     ]
    },
    "5fb17a3592634a4fba98446dacd6db43": {
     "views": [
      {
       "cell_index": 11
      }
     ]
    },
    "6f6f6ce7b81743308b92966f225862a8": {
     "views": [
      {
       "cell_index": 34
      }
     ]
    }
   },
   "version": "1.2.0"
  }
 },
 "nbformat": 4,
 "nbformat_minor": 2
}
