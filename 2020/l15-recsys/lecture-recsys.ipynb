{
 "cells": [
  {
   "cell_type": "markdown",
   "metadata": {
    "slideshow": {
     "slide_type": "slide"
    }
   },
   "source": [
    "<center><img src=\"img/logo_hse_black.jpg\"></center>\n",
    "\n",
    "<h1><center>Data Analysis</center></h1>\n",
    "<h3><center>Andrey Shestakov (<a href=\"mailto:avshestakov@hse.ru\">avshestakov@hse.ru</a>)</center></h3>\n",
    "<hr>\n",
    "<h2><center>Introduction to Recommender Systems<sup><a href=\"#fn1\" id=\"ref1\">1</a></sup></center></h2>\n",
    "\n",
    "\n",
    "\n",
    "<sup id=\"fn1\">1. Some materials are taken from <a href=\"http://www.machinelearning.ru/wiki/index.php?title=%D0%9C%D0%B0%D1%82%D0%B5%D0%BC%D0%B0%D1%82%D0%B8%D1%87%D0%B5%D1%81%D0%BA%D0%B8%D0%B5_%D0%BC%D0%B5%D1%82%D0%BE%D0%B4%D1%8B_%D1%80%D0%B0%D1%81%D0%BF%D0%BE%D0%B7%D0%BD%D0%B0%D0%B2%D0%B0%D0%BD%D0%B8%D1%8F_%D0%BE%D0%B1%D1%80%D0%B0%D0%B7%D0%BE%D0%B2_%28%D0%BA%D1%83%D1%80%D1%81_%D0%BB%D0%B5%D0%BA%D1%86%D0%B8%D0%B9%2C_%D0%92.%D0%92.%D0%9A%D0%B8%D1%82%D0%BE%D0%B2%29\">machine learning course of Victor Kitov</a></sup>"
   ]
  },
  {
   "cell_type": "markdown",
   "metadata": {
    "slideshow": {
     "slide_type": "subslide"
    }
   },
   "source": [
    "## Motivation\n",
    "\n",
    "* Everyday people have to make decisions:\n",
    "    * what music to listen\n",
    "    * what movies to see\n",
    "    * what books to read\n",
    "    * what food to eat \n",
    "    * what games to play\n",
    "    * ...\n",
    "\n",
    "* Multitude of choices\n",
    "    * Spotify - 30kk. songs\n",
    "    * Netflix - 20k. movies and series\n",
    "    * Amazon - 500k. books\n",
    "    * Steam - 20k games"
   ]
  },
  {
   "cell_type": "markdown",
   "metadata": {
    "slideshow": {
     "slide_type": "subslide"
    }
   },
   "source": [
    "To filter out the seach people can rely on recommendations\n",
    "* of their friends (if there are friends)\n",
    "* of some reviews\n",
    "\n",
    "\n",
    "These recommendations are too narrow and standard\n",
    "* rely on information of a handful of people\n",
    "* not tuned for individual user tastes\n"
   ]
  },
  {
   "cell_type": "markdown",
   "metadata": {
    "slideshow": {
     "slide_type": "fragment"
    }
   },
   "source": [
    "Need automatic recommendation system!\n",
    "<center><img src=\"img/recsys.jpg\" width=400></center>"
   ]
  },
  {
   "cell_type": "markdown",
   "metadata": {
    "slideshow": {
     "slide_type": "subslide"
    }
   },
   "source": [
    "<center><img src=\"img/hp-rec.png\" width=600></center>"
   ]
  },
  {
   "cell_type": "markdown",
   "metadata": {
    "slideshow": {
     "slide_type": "subslide"
    }
   },
   "source": [
    "### Long Tail Phenomenon\n",
    "<center><img src=\"img/longtail.gif\" width=600></center>"
   ]
  },
  {
   "cell_type": "markdown",
   "metadata": {
    "slideshow": {
     "slide_type": "subslide"
    }
   },
   "source": [
    "<center><img src=\"img/pack-rec.png\" width=700></center>"
   ]
  },
  {
   "cell_type": "markdown",
   "metadata": {
    "slideshow": {
     "slide_type": "slide"
    }
   },
   "source": [
    "# Few words on history"
   ]
  },
  {
   "cell_type": "markdown",
   "metadata": {
    "slideshow": {
     "slide_type": "subslide"
    }
   },
   "source": [
    "## Netflix prize\n",
    "\n",
    "* Competition for the best recommendation algirithm\n",
    "* October 2007 - September 2009\n",
    "* Prize: 1 000 000 $\n",
    "* 480 000 users\n",
    "* 17 770 movies\n",
    "* format: [user, movie, datetime, rating]\n",
    "* grades: 1,2,3,4,5\n",
    "* quality measure: RMSE"
   ]
  },
  {
   "cell_type": "markdown",
   "metadata": {
    "slideshow": {
     "slide_type": "subslide"
    }
   },
   "source": [
    "### Netflix Prize\n",
    "<center><img src=\"img/netflix.jpg\" width=500></center>"
   ]
  },
  {
   "cell_type": "markdown",
   "metadata": {
    "slideshow": {
     "slide_type": "subslide"
    }
   },
   "source": [
    "### Recsys\n",
    "Annual international conference \n",
    "<center><img src=\"img/conf.png\" width=400></center>"
   ]
  },
  {
   "cell_type": "markdown",
   "metadata": {
    "slideshow": {
     "slide_type": "slide"
    }
   },
   "source": [
    "# Collaborative filtering"
   ]
  },
  {
   "cell_type": "markdown",
   "metadata": {
    "slideshow": {
     "slide_type": "subslide"
    }
   },
   "source": [
    "## Collaborative filtering\n",
    "\n",
    "A method of making automatic predictions about the interests of a user by collecting prefences or taste information from similar users\n",
    "\n",
    "* Generic CF algorithm\n",
    "    1. Look for users who share the same rating patterns with current user\n",
    "    2. Use their ratings to predict currently unknown user ratings\n",
    "    \n",
    "    \n",
    "* Main assumption: if person A has the same opinion as a persion B on an issue, A is more likely to have B's opinion on a different issue.\n",
    "    * Have you already seen this idea?"
   ]
  },
  {
   "cell_type": "markdown",
   "metadata": {
    "slideshow": {
     "slide_type": "subslide"
    }
   },
   "source": [
    "## Collaborative filtering\n",
    "\n",
    "<center><img src=\"img/cf.png\" width=600></center>"
   ]
  },
  {
   "cell_type": "markdown",
   "metadata": {
    "slideshow": {
     "slide_type": "subslide"
    }
   },
   "source": [
    "## Challenges\n",
    "* Scalability\n",
    "    * many users and items\n",
    "* Cold start\n",
    "    * new user has not rated many items - hard to predict his preferences\n",
    "    * new item was not rated by many users - hard to predict its characteristics\n",
    "* Shilling attacks\n",
    "    * shop representatives may give lots of positive ratings for their own items ang negative ratings for theis competitors\n",
    "* Learning Loop\n",
    "    * once the model have been relearned it may relearned its previous predictions - does not gain new knowledge\n",
    "* Obvious recommendations"
   ]
  },
  {
   "cell_type": "markdown",
   "metadata": {
    "slideshow": {
     "slide_type": "slide"
    }
   },
   "source": [
    "# Core concepts"
   ]
  },
  {
   "cell_type": "markdown",
   "metadata": {
    "slideshow": {
     "slide_type": "subslide"
    }
   },
   "source": [
    "* Users give ratings to items\n",
    "\n",
    "<center><img src=\"img/star_ratings.png\" width=600></center>\n"
   ]
  },
  {
   "cell_type": "markdown",
   "metadata": {
    "slideshow": {
     "slide_type": "subslide"
    }
   },
   "source": [
    "* Users give ratings to items\n",
    "    * Binary\n",
    "    * \"Stars\"\n",
    "    * Implicit \n",
    "    \n",
    "<center><img src=\"img/rating.png\" width=700></center>\n",
    "\n",
    "* Tasks of RecSys:\n",
    "    * Fill missing values of the ratings\n",
    "    * Recommend items to user\n",
    "        * may not be the highest ranked!"
   ]
  },
  {
   "cell_type": "markdown",
   "metadata": {
    "slideshow": {
     "slide_type": "subslide"
    }
   },
   "source": [
    "## Notations\n",
    "* $U$ - set of all users\n",
    "* $I$ - set of all items\n",
    "* $u$, $v$ - some users\n",
    "* $i$, $j$ - some items\n",
    "* $U_i$ - set of users, that rated item $i$\n",
    "* $I_u$ - set of items, that have been rated by user $u$\n",
    "* $R_{ui}$ - actual rating of item $i$ by user $u$ \n",
    "* $\\hat{R}_{ui}$ - predicted rating of item $i$ by user $u$\n",
    "\n"
   ]
  },
  {
   "cell_type": "markdown",
   "metadata": {
    "slideshow": {
     "slide_type": "slide"
    }
   },
   "source": [
    "# Baseline"
   ]
  },
  {
   "cell_type": "markdown",
   "metadata": {
    "slideshow": {
     "slide_type": "subslide"
    }
   },
   "source": [
    "## Baseline ideas\n",
    "\n",
    "* $b_{ui} = \\mu$, $(\\mu = \\frac{1}{n}\\sum\\limits_{u,i} R_{ui})$\n",
    "* $b_{ui} = \\bar{R}_u = \\frac{1}{|I_u|}\\sum\\limits_{i\\in I_u} R_{ui}$\n",
    "* $b_{ui} = \\bar{R}_i = \\frac{1}{|U_i|}\\sum\\limits_{u\\in U_i} R_{ui}$"
   ]
  },
  {
   "cell_type": "markdown",
   "metadata": {
    "collapsed": true,
    "slideshow": {
     "slide_type": "subslide"
    }
   },
   "source": [
    "## General baseline\n",
    "* $b_{ui} = \\mu + b_u + b_i$,\n",
    "* $b_{u} = \\frac{1}{|I_u|}\\sum_{i\\in I_u}(R_{ui} - \\mu)$\n",
    "* $b_{i} = \\frac{1}{|U_i|}\\sum_{u\\in U_i}(R_{ui} - b_u - \\mu)$\n",
    "\n",
    "Intuition\n",
    "* $b_u$ is how much higher user rates items than on average\n",
    "* $b_i$ is how much item $i$ is rated higher than average user rating"
   ]
  },
  {
   "cell_type": "markdown",
   "metadata": {
    "slideshow": {
     "slide_type": "subslide"
    }
   },
   "source": [
    "## General baseline\n",
    "\n",
    "* $b_{ui} = \\mu + b_u + b_i$,\n",
    "* $b_{u} = \\frac{1}{|I_u|+\\alpha}\\sum_{i\\in I_u}(R_{ui} - \\mu)$\n",
    "* $b_{i} = \\frac{1}{|U_i|+\\beta}\\sum_{u\\in U_i}(R_{ui} - b_u - \\mu)$\n",
    "\n",
    "\n",
    "* What is the idea behind $\\alpha$ and $\\beta$?\n"
   ]
  },
  {
   "cell_type": "markdown",
   "metadata": {
    "slideshow": {
     "slide_type": "subslide"
    }
   },
   "source": [
    "## Motivation\n",
    "\n",
    "* Compare accuracy with advanced model\n",
    "* Can compute missing values with baseline values\n",
    "* Normalization: predict $R_{ui} - b_{ui}$ instead of $R_{ui}$"
   ]
  },
  {
   "cell_type": "markdown",
   "metadata": {
    "slideshow": {
     "slide_type": "slide"
    }
   },
   "source": [
    "# User-based Collaborative filteting"
   ]
  },
  {
   "cell_type": "markdown",
   "metadata": {
    "slideshow": {
     "slide_type": "subslide"
    }
   },
   "source": [
    "## User-based CF\n",
    "<center><img src=\"img/ub-collab.png\" width=700></center>"
   ]
  },
  {
   "cell_type": "markdown",
   "metadata": {
    "slideshow": {
     "slide_type": "subslide"
    }
   },
   "source": [
    "## User-based CF\n",
    "* Also known as K-NN CF\n",
    "* Define similarity function on users: $s \\in \\mathbb{R}^{U \\times U}$\n",
    "\n",
    "* Algorithm with level normalization:\n",
    "    1. For user $u$ find a neighbourhood of similar users $N(u)$\n",
    "    2. Generate rating predictions by averaging over $N(u)$\n",
    "$$ \\hat{R}_{ui} = \\bar{R}_u + \\frac{\\sum_{v \\in N(u)} s_{uv}(R_{vi} - \\bar{R}_v)}{\\sum_{v \\in N(u)} \\left| s_{uv}\\right|} $$\n",
    "\n",
    "* $\\bar{R}_u$ - adjustment to compensate average rating behaviour of u\n",
    "    * skeptics/optimists normalization"
   ]
  },
  {
   "cell_type": "markdown",
   "metadata": {
    "slideshow": {
     "slide_type": "subslide"
    }
   },
   "source": [
    "## User-based CF\n",
    "\n",
    "* Algorithm with level and scale normalization:\n",
    "    1. For user $u$ find a neighbourhood of similar users $N(u)$\n",
    "    2. Generate rating predictions by averaging over $N(u)$\n",
    "$$ \\hat{R}_{ui} = \\bar{R}_u + \\sigma_u\\frac{\\sum_{v \\in N(u)} s_{uv}(R_{vi} - \\bar{R}_v)/\\sigma_v}{\\sum_{v \\in N(u)} \\left| s_{uv}\\right|} $$\n",
    "\n",
    "* where $\\sigma_u$ is standard deviation of user $u$ ratings"
   ]
  },
  {
   "cell_type": "markdown",
   "metadata": {
    "slideshow": {
     "slide_type": "subslide"
    }
   },
   "source": [
    "##  Number of NN\n",
    "* In general 20-50 is suggested\n",
    "* Also possible\n",
    "    * Take all\n",
    "    * Top-k\n",
    "    * $s_{uv} > \\theta$"
   ]
  },
  {
   "cell_type": "markdown",
   "metadata": {
    "slideshow": {
     "slide_type": "subslide"
    }
   },
   "source": [
    "## Similarity measures\n",
    "\n",
    "* For each pair $(u,v)$ the intersection of rated items should be considered!\n",
    "\n",
    "* Pearson correlation\n",
    "$$ s_{uv} = \\frac{\\sum\\limits_{i \\in I_u\\cap I_v} (R_{ui} - \\bar{R}_u)(R_{vi} - \\bar{R}_v)}{\\sqrt{\\sum\\limits_{i \\in I_u\\cap I_v}(R_{ui} - \\bar{R}_u)^2}\\sqrt{\\sum\\limits_{i \\in I_u\\cap I_v}(R_{vi} - \\bar{R}_v)^2}}$$\n",
    "\n",
    "* tends to give high similarity for users with few ratings\n",
    "    * solution $s'_{uv} = s_{uv}\\cdot \\min\\{|I_u\\cap I_v|/50, 1\\}$\n"
   ]
  },
  {
   "cell_type": "markdown",
   "metadata": {
    "slideshow": {
     "slide_type": "subslide"
    }
   },
   "source": [
    "## Other possible measures\n",
    "\n",
    "* Spearman correlation\n",
    "    * correlatino between ranks of ratings\n",
    "    * captures the level of monotone dependencies\n",
    "* Cosine similarity\n",
    "$$ s_{uv} = \\frac{\\sum\\limits_{i \\in I_u\\cap I_v} R_{ui} R_{vi}}{\\sqrt{{\\sum\\limits_{i \\in I_u\\cap I_v}R_{ui}^2}}\\sqrt{{\\sum\\limits_{i \\in I_u\\cap I_v}R_{vi}^2}}}$$\n"
   ]
  },
  {
   "cell_type": "markdown",
   "metadata": {
    "slideshow": {
     "slide_type": "slide"
    }
   },
   "source": [
    "# Item-based Collaborative filteting"
   ]
  },
  {
   "cell_type": "markdown",
   "metadata": {
    "slideshow": {
     "slide_type": "subslide"
    }
   },
   "source": [
    "## Item-based CF\n",
    "\n",
    "<center><img src='http://dataconomy.com/wp-content/uploads/2015/03/Beginners-Guide-Recommender-Systems-Content-Based-Filtering.png' width=350></center>"
   ]
  },
  {
   "cell_type": "markdown",
   "metadata": {
    "slideshow": {
     "slide_type": "subslide"
    }
   },
   "source": [
    "## Item-based CF\n",
    "* Also determine similarity function between items $s \\in \\mathbb{R}^{I \\times I}$\n",
    "* For item $i$ find a set of items similar to it and rated by user $u$: $N(i)$\n",
    "\n",
    "* Predict $R_{ui}$ by averaging over $N(i)$\n",
    "$$ \\hat{R}_{ui} = \\frac{\\sum_{j \\in N(i)} s_{ij}R_{uj}}{\\sum_{j \\in N(i)} \\left| s_{ij}\\right|} \\qquad (1)$$"
   ]
  },
  {
   "cell_type": "markdown",
   "metadata": {
    "slideshow": {
     "slide_type": "subslide"
    }
   },
   "source": [
    "## Similarities for Item-based CF\n",
    "\n",
    "* Conditional probability of purchase\n",
    "$$ s_{ij} = \\frac{n_{ij}}{n_i} $$\n",
    "* Dependency\n",
    "$$ s_{ij} = \\frac{n_{ij}}{n_i n_j} $$"
   ]
  },
  {
   "cell_type": "markdown",
   "metadata": {
    "slideshow": {
     "slide_type": "subslide"
    }
   },
   "source": [
    "## Benefits of item-based CF\n",
    "* We need to generate recomendations for user $u$ in real-time when he is active\n",
    "* When user is active - his ratings change\n",
    "    * User-based CF: after changes in rating we need to recalculate all nearest neighbours or user - long!\n",
    "    * Item-based CF: for each pair of items we precalculate similarities $s_{ij}$ and find nearest neighbours of each item. Change in user ratings affects only the weights in $(1)$\n",
    "    \n",
    "* Due to possible precomputations, item-item becomes more efficient\n",
    "    * user profile is more dynamic\n",
    "    * item profile is more static"
   ]
  },
  {
   "cell_type": "markdown",
   "metadata": {
    "slideshow": {
     "slide_type": "slide"
    }
   },
   "source": [
    "# Latent variable models"
   ]
  },
  {
   "cell_type": "markdown",
   "metadata": {
    "collapsed": true,
    "slideshow": {
     "slide_type": "subslide"
    }
   },
   "source": [
    "## Latent variables models\n",
    "For each user $u$ build a vector $p_u\\in \\mathbb{R}^{k}$ and for each item $i$ - a vector $q_i \\in \\mathbb{R}^{k}$ s.t.:\n",
    "$$ R_{ui} \\approx p_u^\\top q_i $$\n",
    "\n",
    "* $p_u$'s components sometimes can be iterpreted as user's interests in topic\n",
    "* $q_i$'s components sometimes can be iterpreted as items's relevance to topic "
   ]
  },
  {
   "cell_type": "markdown",
   "metadata": {
    "slideshow": {
     "slide_type": "subslide"
    }
   },
   "source": [
    "<center><img src='img/matrix_factorization.png' width=600></center>"
   ]
  },
  {
   "cell_type": "markdown",
   "metadata": {
    "slideshow": {
     "slide_type": "subslide"
    }
   },
   "source": [
    "## Singular Value Decomposition\n",
    "\n",
    "Each matrix $X\\in \\mathbb{R}^{n \\times d}$ with rank $r$ can be decomposed as\n",
    "$$ X = U \\Sigma V^\\top ,$$\n",
    "where\n",
    "* $U$ - unitary matrix, which contains eigenvectors of $XX^\\top$\n",
    "* $V$ - unitary matrix, which contains eigenvectors of $X^\\top X$\n",
    "* $\\Sigma$ - diagonal matrix with singular values $\\sigma_i = \\sqrt{\\lambda_i}$"
   ]
  },
  {
   "cell_type": "markdown",
   "metadata": {
    "slideshow": {
     "slide_type": "subslide"
    }
   },
   "source": [
    "## Truncated SVD\n",
    "\n",
    "Truncated SVD with rank $K$\n",
    "$$ X \\approx \\hat{X} = U_k \\Sigma_k V_k^\\top ,$$ where\n",
    "* $U_k$ contains first $k$ columns of $U$\n",
    "* $V_k$ contains first $k$ columns of $V$    \n",
    "* $\\Sigma_k$ contains first $k$ diagonal elements of $\\Sigma$        "
   ]
  },
  {
   "cell_type": "markdown",
   "metadata": {
    "slideshow": {
     "slide_type": "subslide"
    }
   },
   "source": [
    "## SVD разложение\n",
    "\n",
    "<center><img src='img/svd.png' width=800></center>"
   ]
  },
  {
   "cell_type": "markdown",
   "metadata": {
    "slideshow": {
     "slide_type": "fragment"
    }
   },
   "source": [
    "It turns out that \n",
    "$$ \\hat{X} = \\arg \\min\\limits_{A\\in \\mathbb{R}{n \\times d}, rank(A) \\leq k} \\| X-A \\|_{Frobenius} $$"
   ]
  },
  {
   "cell_type": "markdown",
   "metadata": {
    "slideshow": {
     "slide_type": "subslide"
    }
   },
   "source": [
    "## Problems\n",
    "\n",
    "* Have to fill missing values\n",
    "    * with $0$\n",
    "    * with baseline predictions\n",
    "* Optionally\n",
    "    * $R' = R-B$ and fill with $0$\n",
    "* In the end:\n",
    "    * $P = U \\Sigma^{1/2}$\n",
    "    * $Q = \\Sigma^{1/2}V^\\top$\n",
    "    * $\\hat{R} = P^\\top Q$\n",
    "* How do we calculate $p_u$ for new user $u$ given his rating vector $r_u$?"
   ]
  },
  {
   "cell_type": "markdown",
   "metadata": {
    "slideshow": {
     "slide_type": "subslide"
    }
   },
   "source": [
    "## Recalculation for new user\n",
    "\n",
    "$$ p_u = \\arg \\min\\limits_p \\|r_u - Vp \\|^2 = \\{\\text{OLS solution}\\} = \\left( V^\\top V \\right)^{-1} V^\\top r_u = V^\\top r_u$$\n",
    "\n",
    "* $p_u = V^\\top r_u$ is a vector of scalar products $[\\langle v_1, r_u \\rangle, \\langle v_2, r_u \\rangle, \\dots, \\langle v_k, r_u \\rangle]$\n",
    "* Backward transformation from low-dimensional representation $p_u$ to initial representation $\\hat{r}_u$: $\\hat{r}_u = Vp_u$"
   ]
  },
  {
   "cell_type": "markdown",
   "metadata": {
    "slideshow": {
     "slide_type": "subslide"
    }
   },
   "source": [
    "##  Latent Factor Model (Sparse SVD)\n",
    "* Lets optimize\n",
    "$$ \\sum\\limits_{u,i}(R_{ui} - \\bar{R}_u - \\bar{R}_i - \\langle p_u, q_i \\rangle)^2 \\rightarrow \\min\\limits_{P, Q} $$\n",
    "* Using SGD and going through pairs $(u,i)$ with known $R_{ui}$:\n",
    "$$ p_{uk} = p_{uk} + 2\\alpha \\left(q_{ik}(R_{ui} - \\bar{R}_u - \\bar{R}_i - \\langle p_u, q_i \\rangle\\right)$$\n",
    "$$ q_{ik} = q_{ik} + 2\\alpha \\left(p_{uk}(R_{ui} - \\bar{R}_u - \\bar{R}_i - \\langle p_u, q_i \\rangle\\right)$$"
   ]
  },
  {
   "cell_type": "markdown",
   "metadata": {
    "slideshow": {
     "slide_type": "subslide"
    }
   },
   "source": [
    "##  Latent Factor Model (Sparse SVD)\n",
    "* Add regularization\n",
    "$$ \\sum\\limits_{u,i}(R_{ui} - \\bar{R}_u - \\bar{R}_i - \\langle p_u, q_i \\rangle)^2 + \\lambda \\sum_u\\| p_u \\|^2 + \\mu\\sum_i\\| q_i \\|^2 \\rightarrow \\min\\limits_{P, Q} $$\n",
    "* Using SGD and going through pairs $(u,i)$ with known $R_{ui}$:\n",
    "$$ p_{uk} = p_{uk} + 2\\alpha \\left(q_{ik}(R_{ui} - \\bar{R}_u - \\bar{R}_i - \\langle p_u, q_i \\rangle) - \\lambda p_{uk}\\right)$$\n",
    "$$ q_{ik} = q_{ik} + 2\\alpha \\left(p_{uk}(R_{ui} - \\bar{R}_u - \\bar{R}_i - \\langle p_u, q_i \\rangle) - \\mu q_{ik}\\right)$$"
   ]
  },
  {
   "cell_type": "markdown",
   "metadata": {
    "slideshow": {
     "slide_type": "subslide"
    }
   },
   "source": [
    "# Factorization Machines\n",
    "* Represent all users and items iteractions with one-hot encoded vector (of length $d=|U|+|I|$):\n",
    "\n",
    "<center><img src='img/fm1.jpeg' width=500></center>\n",
    "\n",
    "* In such feature space we can consider various models:\n",
    "\n",
    "$$ a(x) = w_0 + \\sum\\limits_{i=1}^d w_i x_i \\quad \\text(linear)$$\n",
    "\n",
    "$$ a(x) = w_0 + \\sum\\limits_{i=1}^d w_i x_i + \\sum\\limits_{i=1,j=i+1}^d w_{ij} x_i x_j \\quad \\text(polynomial)$$"
   ]
  },
  {
   "cell_type": "markdown",
   "metadata": {
    "slideshow": {
     "slide_type": "subslide"
    }
   },
   "source": [
    "# Factorization Machines\n",
    "<center><img src='img/fm1.jpeg' width=600></center>\n",
    "\n",
    "* Let's try to reduce the number of parameters and approximate $w_{ij}$ with $\\langle v_i, v_j\\rangle$, where $v_i$ is latent representation of feature $x_j$\n",
    "\n",
    "$$ a(x) = w_0 + \\sum\\limits_{i=1}^d w_i x_i + \\sum\\limits_{i=1,j=i+1}^d \\langle v_i, v_j\\rangle x_i x_j \\quad \\text(fm)$$"
   ]
  },
  {
   "cell_type": "markdown",
   "metadata": {
    "slideshow": {
     "slide_type": "subslide"
    }
   },
   "source": [
    "# Factorization Machines\n",
    "<center><img src='img/fm2.jpeg' width=600></center>\n"
   ]
  },
  {
   "cell_type": "markdown",
   "metadata": {
    "slideshow": {
     "slide_type": "slide"
    }
   },
   "source": [
    "# Classification-based models"
   ]
  },
  {
   "cell_type": "markdown",
   "metadata": {
    "slideshow": {
     "slide_type": "subslide"
    }
   },
   "source": [
    "* How can we adapt simple classification task to recommendation system domain?\n",
    "* Any problems here?"
   ]
  },
  {
   "cell_type": "markdown",
   "metadata": {
    "slideshow": {
     "slide_type": "slide"
    }
   },
   "source": [
    "# Measuring Quality"
   ]
  },
  {
   "cell_type": "markdown",
   "metadata": {
    "slideshow": {
     "slide_type": "subslide"
    }
   },
   "source": [
    "* Ratings accuracy\n",
    "    * MAE, MSE\n",
    "* Event quality\n",
    "    * F-score, ROC-AUC, PR-AUC\n",
    "    * precision@k, recall@k\n",
    "* Ranking quality\n",
    "    * $DCG@k(u) = \\sum\\limits_{p=1}^k \\frac{rel(i,p)}{\\log{(p+1)}}$\n",
    "    * $nDCG@k(u) = \\frac{DCG@k(u)}{\\max{(DCG@k(u))}}$\n",
    "* What else is usefull to measure?"
   ]
  }
 ],
 "metadata": {
  "_draft": {
   "nbviewer_url": "https://gist.github.com/1f8c4751e12938961e423759861e6e5a"
  },
  "anaconda-cloud": {},
  "celltoolbar": "Slideshow",
  "gist": {
   "data": {
    "description": "CloudMail/hse-da-course/raw/lecture-intro/lecture-intro-v01.ipynb",
    "public": false
   },
   "id": "1f8c4751e12938961e423759861e6e5a"
  },
  "kernelspec": {
   "display_name": "Python 3",
   "language": "python",
   "name": "python3"
  },
  "language_info": {
   "codemirror_mode": {
    "name": "ipython",
    "version": 3
   },
   "file_extension": ".py",
   "mimetype": "text/x-python",
   "name": "python",
   "nbconvert_exporter": "python",
   "pygments_lexer": "ipython3",
   "version": "3.7.3"
  },
  "livereveal": {
   "theme": "serif",
   "transition": "concave"
  },
  "nav_menu": {},
  "toc": {
   "base_numbering": 1,
   "nav_menu": {
    "height": "513px",
    "width": "253px"
   },
   "number_sections": false,
   "sideBar": false,
   "skip_h1_title": false,
   "title_cell": "Table of Contents",
   "title_sidebar": "Contents",
   "toc_cell": false,
   "toc_position": {},
   "toc_section_display": "block",
   "toc_window_display": false
  },
  "toc_position": {
   "height": "32px",
   "left": "9px",
   "right": "1379px",
   "top": "33px",
   "width": "212px"
  },
  "widgets": {
   "state": {
    "54e80d57f79b4bfc934a2b84cf5fe7ba": {
     "views": [
      {
       "cell_index": 47
      }
     ]
    },
    "5fb17a3592634a4fba98446dacd6db43": {
     "views": [
      {
       "cell_index": 11
      }
     ]
    },
    "6f6f6ce7b81743308b92966f225862a8": {
     "views": [
      {
       "cell_index": 34
      }
     ]
    }
   },
   "version": "1.2.0"
  }
 },
 "nbformat": 4,
 "nbformat_minor": 2
}
