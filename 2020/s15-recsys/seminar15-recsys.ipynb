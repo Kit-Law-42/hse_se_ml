{
 "cells": [
  {
   "cell_type": "markdown",
   "metadata": {},
   "source": [
    "<center><img src=\"img/logo_hse_black.jpg\"></center>\n",
    "\n",
    "<h1><center>Data Analysis</center></h1>\n",
    "<h2><center>Seminar: Recsys </center></h2>"
   ]
  },
  {
   "cell_type": "code",
   "execution_count": 1,
   "metadata": {},
   "outputs": [],
   "source": [
    "import os\n",
    "import numpy as np\n",
    "import pandas as pd\n",
    "import matplotlib.pyplot as plt\n",
    "from tqdm import tqdm_notebook\n",
    "%matplotlib inline\n",
    "\n",
    "plt.style.use('ggplot')\n",
    "plt.rcParams['figure.figsize'] = (12, 6)"
   ]
  },
  {
   "cell_type": "markdown",
   "metadata": {},
   "source": [
    "# Data preprocessing"
   ]
  },
  {
   "cell_type": "markdown",
   "metadata": {},
   "source": [
    "1. Download [data](https://cloud.mail.ru/public/CSjR/mPctRVc2u) with ratings and movies\n",
    "2. Examine ids of movies and users\n",
    "3. Examine documentation of scipy.sparse.coo_matrix\n",
    "3. Encode ids in a proper way to ease creation of rating matrix\n"
   ]
  },
  {
   "cell_type": "markdown",
   "metadata": {},
   "source": [
    "The goal is to create a matrix of user ratings for all movies:\n",
    "\n",
    "<center><img src=\"img/rating.png\"></center>"
   ]
  },
  {
   "cell_type": "markdown",
   "metadata": {},
   "source": [
    "### Data reading"
   ]
  },
  {
   "cell_type": "code",
   "execution_count": null,
   "metadata": {},
   "outputs": [],
   "source": [
    "! wget https://raw.githubusercontent.com/hushchyn-mikhail/hse_se_ml/s15/2020/s15-recsys/data/user_ratedmovies.dat"
   ]
  },
  {
   "cell_type": "code",
   "execution_count": null,
   "metadata": {},
   "outputs": [],
   "source": [
    "! wget https://raw.githubusercontent.com/hushchyn-mikhail/hse_se_ml/s15/2020/s15-recsys/data/movies.dat"
   ]
  },
  {
   "cell_type": "code",
   "execution_count": 2,
   "metadata": {},
   "outputs": [
    {
     "data": {
      "text/html": [
       "<div>\n",
       "<style scoped>\n",
       "    .dataframe tbody tr th:only-of-type {\n",
       "        vertical-align: middle;\n",
       "    }\n",
       "\n",
       "    .dataframe tbody tr th {\n",
       "        vertical-align: top;\n",
       "    }\n",
       "\n",
       "    .dataframe thead th {\n",
       "        text-align: right;\n",
       "    }\n",
       "</style>\n",
       "<table border=\"1\" class=\"dataframe\">\n",
       "  <thead>\n",
       "    <tr style=\"text-align: right;\">\n",
       "      <th></th>\n",
       "      <th>userID</th>\n",
       "      <th>movieID</th>\n",
       "      <th>rating</th>\n",
       "      <th>date_day</th>\n",
       "      <th>date_month</th>\n",
       "      <th>date_year</th>\n",
       "      <th>date_hour</th>\n",
       "      <th>date_minute</th>\n",
       "      <th>date_second</th>\n",
       "    </tr>\n",
       "  </thead>\n",
       "  <tbody>\n",
       "    <tr>\n",
       "      <td>0</td>\n",
       "      <td>75</td>\n",
       "      <td>3</td>\n",
       "      <td>1.0</td>\n",
       "      <td>29</td>\n",
       "      <td>10</td>\n",
       "      <td>2006</td>\n",
       "      <td>23</td>\n",
       "      <td>17</td>\n",
       "      <td>16</td>\n",
       "    </tr>\n",
       "    <tr>\n",
       "      <td>1</td>\n",
       "      <td>75</td>\n",
       "      <td>32</td>\n",
       "      <td>4.5</td>\n",
       "      <td>29</td>\n",
       "      <td>10</td>\n",
       "      <td>2006</td>\n",
       "      <td>23</td>\n",
       "      <td>23</td>\n",
       "      <td>44</td>\n",
       "    </tr>\n",
       "    <tr>\n",
       "      <td>2</td>\n",
       "      <td>75</td>\n",
       "      <td>110</td>\n",
       "      <td>4.0</td>\n",
       "      <td>29</td>\n",
       "      <td>10</td>\n",
       "      <td>2006</td>\n",
       "      <td>23</td>\n",
       "      <td>30</td>\n",
       "      <td>8</td>\n",
       "    </tr>\n",
       "    <tr>\n",
       "      <td>3</td>\n",
       "      <td>75</td>\n",
       "      <td>160</td>\n",
       "      <td>2.0</td>\n",
       "      <td>29</td>\n",
       "      <td>10</td>\n",
       "      <td>2006</td>\n",
       "      <td>23</td>\n",
       "      <td>16</td>\n",
       "      <td>52</td>\n",
       "    </tr>\n",
       "    <tr>\n",
       "      <td>4</td>\n",
       "      <td>75</td>\n",
       "      <td>163</td>\n",
       "      <td>4.0</td>\n",
       "      <td>29</td>\n",
       "      <td>10</td>\n",
       "      <td>2006</td>\n",
       "      <td>23</td>\n",
       "      <td>29</td>\n",
       "      <td>30</td>\n",
       "    </tr>\n",
       "  </tbody>\n",
       "</table>\n",
       "</div>"
      ],
      "text/plain": [
       "   userID  movieID  rating  date_day  date_month  date_year  date_hour  \\\n",
       "0      75        3     1.0        29          10       2006         23   \n",
       "1      75       32     4.5        29          10       2006         23   \n",
       "2      75      110     4.0        29          10       2006         23   \n",
       "3      75      160     2.0        29          10       2006         23   \n",
       "4      75      163     4.0        29          10       2006         23   \n",
       "\n",
       "   date_minute  date_second  \n",
       "0           17           16  \n",
       "1           23           44  \n",
       "2           30            8  \n",
       "3           16           52  \n",
       "4           29           30  "
      ]
     },
     "execution_count": 2,
     "metadata": {},
     "output_type": "execute_result"
    }
   ],
   "source": [
    "# read user ratings\n",
    "\n",
    "df_ratings = pd.read_csv('data/user_ratedmovies.dat', sep='\\t')\n",
    "df_ratings.head()"
   ]
  },
  {
   "cell_type": "code",
   "execution_count": 3,
   "metadata": {},
   "outputs": [
    {
     "data": {
      "text/html": [
       "<div>\n",
       "<style scoped>\n",
       "    .dataframe tbody tr th:only-of-type {\n",
       "        vertical-align: middle;\n",
       "    }\n",
       "\n",
       "    .dataframe tbody tr th {\n",
       "        vertical-align: top;\n",
       "    }\n",
       "\n",
       "    .dataframe thead th {\n",
       "        text-align: right;\n",
       "    }\n",
       "</style>\n",
       "<table border=\"1\" class=\"dataframe\">\n",
       "  <thead>\n",
       "    <tr style=\"text-align: right;\">\n",
       "      <th></th>\n",
       "      <th>id</th>\n",
       "      <th>title</th>\n",
       "      <th>imdbID</th>\n",
       "      <th>spanishTitle</th>\n",
       "      <th>imdbPictureURL</th>\n",
       "      <th>year</th>\n",
       "      <th>rtID</th>\n",
       "      <th>rtAllCriticsRating</th>\n",
       "      <th>rtAllCriticsNumReviews</th>\n",
       "      <th>rtAllCriticsNumFresh</th>\n",
       "      <th>...</th>\n",
       "      <th>rtAllCriticsScore</th>\n",
       "      <th>rtTopCriticsRating</th>\n",
       "      <th>rtTopCriticsNumReviews</th>\n",
       "      <th>rtTopCriticsNumFresh</th>\n",
       "      <th>rtTopCriticsNumRotten</th>\n",
       "      <th>rtTopCriticsScore</th>\n",
       "      <th>rtAudienceRating</th>\n",
       "      <th>rtAudienceNumRatings</th>\n",
       "      <th>rtAudienceScore</th>\n",
       "      <th>rtPictureURL</th>\n",
       "    </tr>\n",
       "  </thead>\n",
       "  <tbody>\n",
       "    <tr>\n",
       "      <td>0</td>\n",
       "      <td>1</td>\n",
       "      <td>Toy story</td>\n",
       "      <td>114709</td>\n",
       "      <td>Toy story (juguetes)</td>\n",
       "      <td>http://ia.media-imdb.com/images/M/MV5BMTMwNDU0...</td>\n",
       "      <td>1995</td>\n",
       "      <td>toy_story</td>\n",
       "      <td>9</td>\n",
       "      <td>73</td>\n",
       "      <td>73</td>\n",
       "      <td>...</td>\n",
       "      <td>100</td>\n",
       "      <td>8.5</td>\n",
       "      <td>17</td>\n",
       "      <td>17</td>\n",
       "      <td>0</td>\n",
       "      <td>100</td>\n",
       "      <td>3.7</td>\n",
       "      <td>102338</td>\n",
       "      <td>81</td>\n",
       "      <td>http://content7.flixster.com/movie/10/93/63/10...</td>\n",
       "    </tr>\n",
       "    <tr>\n",
       "      <td>1</td>\n",
       "      <td>2</td>\n",
       "      <td>Jumanji</td>\n",
       "      <td>113497</td>\n",
       "      <td>Jumanji</td>\n",
       "      <td>http://ia.media-imdb.com/images/M/MV5BMzM5NjE1...</td>\n",
       "      <td>1995</td>\n",
       "      <td>1068044-jumanji</td>\n",
       "      <td>5.6</td>\n",
       "      <td>28</td>\n",
       "      <td>13</td>\n",
       "      <td>...</td>\n",
       "      <td>46</td>\n",
       "      <td>5.8</td>\n",
       "      <td>5</td>\n",
       "      <td>2</td>\n",
       "      <td>3</td>\n",
       "      <td>40</td>\n",
       "      <td>3.2</td>\n",
       "      <td>44587</td>\n",
       "      <td>61</td>\n",
       "      <td>http://content8.flixster.com/movie/56/79/73/56...</td>\n",
       "    </tr>\n",
       "    <tr>\n",
       "      <td>2</td>\n",
       "      <td>3</td>\n",
       "      <td>Grumpy Old Men</td>\n",
       "      <td>107050</td>\n",
       "      <td>Dos viejos gruñones</td>\n",
       "      <td>http://ia.media-imdb.com/images/M/MV5BMTI5MTgy...</td>\n",
       "      <td>1993</td>\n",
       "      <td>grumpy_old_men</td>\n",
       "      <td>5.9</td>\n",
       "      <td>36</td>\n",
       "      <td>24</td>\n",
       "      <td>...</td>\n",
       "      <td>66</td>\n",
       "      <td>7</td>\n",
       "      <td>6</td>\n",
       "      <td>5</td>\n",
       "      <td>1</td>\n",
       "      <td>83</td>\n",
       "      <td>3.2</td>\n",
       "      <td>10489</td>\n",
       "      <td>66</td>\n",
       "      <td>http://content6.flixster.com/movie/25/60/25602...</td>\n",
       "    </tr>\n",
       "    <tr>\n",
       "      <td>3</td>\n",
       "      <td>4</td>\n",
       "      <td>Waiting to Exhale</td>\n",
       "      <td>114885</td>\n",
       "      <td>Esperando un respiro</td>\n",
       "      <td>http://ia.media-imdb.com/images/M/MV5BMTczMTMy...</td>\n",
       "      <td>1995</td>\n",
       "      <td>waiting_to_exhale</td>\n",
       "      <td>5.6</td>\n",
       "      <td>25</td>\n",
       "      <td>14</td>\n",
       "      <td>...</td>\n",
       "      <td>56</td>\n",
       "      <td>5.5</td>\n",
       "      <td>11</td>\n",
       "      <td>5</td>\n",
       "      <td>6</td>\n",
       "      <td>45</td>\n",
       "      <td>3.3</td>\n",
       "      <td>5666</td>\n",
       "      <td>79</td>\n",
       "      <td>http://content9.flixster.com/movie/10/94/17/10...</td>\n",
       "    </tr>\n",
       "    <tr>\n",
       "      <td>4</td>\n",
       "      <td>5</td>\n",
       "      <td>Father of the Bride Part II</td>\n",
       "      <td>113041</td>\n",
       "      <td>Vuelve el padre de la novia (Ahora también abu...</td>\n",
       "      <td>http://ia.media-imdb.com/images/M/MV5BMTg1NDc2...</td>\n",
       "      <td>1995</td>\n",
       "      <td>father_of_the_bride_part_ii</td>\n",
       "      <td>5.3</td>\n",
       "      <td>19</td>\n",
       "      <td>9</td>\n",
       "      <td>...</td>\n",
       "      <td>47</td>\n",
       "      <td>5.4</td>\n",
       "      <td>5</td>\n",
       "      <td>1</td>\n",
       "      <td>4</td>\n",
       "      <td>20</td>\n",
       "      <td>3</td>\n",
       "      <td>13761</td>\n",
       "      <td>64</td>\n",
       "      <td>http://content8.flixster.com/movie/25/54/25542...</td>\n",
       "    </tr>\n",
       "  </tbody>\n",
       "</table>\n",
       "<p>5 rows × 21 columns</p>\n",
       "</div>"
      ],
      "text/plain": [
       "   id                        title  imdbID  \\\n",
       "0   1                    Toy story  114709   \n",
       "1   2                      Jumanji  113497   \n",
       "2   3               Grumpy Old Men  107050   \n",
       "3   4            Waiting to Exhale  114885   \n",
       "4   5  Father of the Bride Part II  113041   \n",
       "\n",
       "                                        spanishTitle  \\\n",
       "0                               Toy story (juguetes)   \n",
       "1                                            Jumanji   \n",
       "2                                Dos viejos gruñones   \n",
       "3                               Esperando un respiro   \n",
       "4  Vuelve el padre de la novia (Ahora también abu...   \n",
       "\n",
       "                                      imdbPictureURL  year  \\\n",
       "0  http://ia.media-imdb.com/images/M/MV5BMTMwNDU0...  1995   \n",
       "1  http://ia.media-imdb.com/images/M/MV5BMzM5NjE1...  1995   \n",
       "2  http://ia.media-imdb.com/images/M/MV5BMTI5MTgy...  1993   \n",
       "3  http://ia.media-imdb.com/images/M/MV5BMTczMTMy...  1995   \n",
       "4  http://ia.media-imdb.com/images/M/MV5BMTg1NDc2...  1995   \n",
       "\n",
       "                          rtID rtAllCriticsRating rtAllCriticsNumReviews  \\\n",
       "0                    toy_story                  9                     73   \n",
       "1              1068044-jumanji                5.6                     28   \n",
       "2               grumpy_old_men                5.9                     36   \n",
       "3            waiting_to_exhale                5.6                     25   \n",
       "4  father_of_the_bride_part_ii                5.3                     19   \n",
       "\n",
       "  rtAllCriticsNumFresh  ... rtAllCriticsScore rtTopCriticsRating  \\\n",
       "0                   73  ...               100                8.5   \n",
       "1                   13  ...                46                5.8   \n",
       "2                   24  ...                66                  7   \n",
       "3                   14  ...                56                5.5   \n",
       "4                    9  ...                47                5.4   \n",
       "\n",
       "  rtTopCriticsNumReviews rtTopCriticsNumFresh rtTopCriticsNumRotten  \\\n",
       "0                     17                   17                     0   \n",
       "1                      5                    2                     3   \n",
       "2                      6                    5                     1   \n",
       "3                     11                    5                     6   \n",
       "4                      5                    1                     4   \n",
       "\n",
       "  rtTopCriticsScore rtAudienceRating rtAudienceNumRatings rtAudienceScore  \\\n",
       "0               100              3.7               102338              81   \n",
       "1                40              3.2                44587              61   \n",
       "2                83              3.2                10489              66   \n",
       "3                45              3.3                 5666              79   \n",
       "4                20                3                13761              64   \n",
       "\n",
       "                                        rtPictureURL  \n",
       "0  http://content7.flixster.com/movie/10/93/63/10...  \n",
       "1  http://content8.flixster.com/movie/56/79/73/56...  \n",
       "2  http://content6.flixster.com/movie/25/60/25602...  \n",
       "3  http://content9.flixster.com/movie/10/94/17/10...  \n",
       "4  http://content8.flixster.com/movie/25/54/25542...  \n",
       "\n",
       "[5 rows x 21 columns]"
      ]
     },
     "execution_count": 3,
     "metadata": {},
     "output_type": "execute_result"
    }
   ],
   "source": [
    "# read movie descriptions\n",
    "\n",
    "df_movies = pd.read_csv('data/movies.dat', sep='\\t', encoding = \"ISO-8859-1\")\n",
    "df_movies.head()"
   ]
  },
  {
   "cell_type": "code",
   "execution_count": 4,
   "metadata": {},
   "outputs": [
    {
     "name": "stdout",
     "output_type": "stream",
     "text": [
      "Number of users:  2113\n",
      "Number of movies with user ratings:  10109\n",
      "Number of movies:  10197\n"
     ]
    }
   ],
   "source": [
    "# data info\n",
    "\n",
    "print(\"Number of users: \", df_ratings.userID.nunique())\n",
    "print(\"Number of movies with user ratings: \", df_ratings.movieID.nunique())\n",
    "print(\"Number of movies: \", df_movies.loc[:, 'id'].nunique())"
   ]
  },
  {
   "cell_type": "markdown",
   "metadata": {},
   "source": [
    "### One-hot encoding userID and movieID"
   ]
  },
  {
   "cell_type": "code",
   "execution_count": 5,
   "metadata": {},
   "outputs": [],
   "source": [
    "from sklearn.preprocessing import LabelEncoder"
   ]
  },
  {
   "cell_type": "code",
   "execution_count": 6,
   "metadata": {},
   "outputs": [
    {
     "name": "stdout",
     "output_type": "stream",
     "text": [
      "Before:  [75 75 75 75 75 75 75 75 75 75 75 75 75 75 75 75 75 75 75 75]\n",
      "After:  [0 0 0 0 0 0 0 0 0 0 0 0 0 0 0 0 0 0 0 0]\n"
     ]
    }
   ],
   "source": [
    "# userID one-hot encoding\n",
    "\n",
    "print(\"Before: \", df_ratings.userID.values[:20])\n",
    "\n",
    "# fit encoder\n",
    "enc_user = LabelEncoder()\n",
    "enc_user.fit(df_ratings.userID.values)\n",
    "\n",
    "# apply encoder\n",
    "df_ratings.loc[:, 'userID'] = enc_user.transform(df_ratings.loc[:, 'userID'].values)\n",
    "print(\"After: \", df_ratings.userID.values[:20])"
   ]
  },
  {
   "cell_type": "code",
   "execution_count": 7,
   "metadata": {},
   "outputs": [
    {
     "name": "stdout",
     "output_type": "stream",
     "text": [
      "Before:  [ 1  2  3  4  5  6  7  8  9 10 11 12 13 14 15 16 17 18 19 20]\n",
      "After:  [ 0  1  2  3  4  5  6  7  8  9 10 11 12 13 14 15 16 17 18 19]\n"
     ]
    }
   ],
   "source": [
    "# movieID one-hot encoding\n",
    "\n",
    "print(\"Before: \", df_movies.loc[:, 'id'].values[:20])\n",
    "\n",
    "# fit encoder\n",
    "enc_movies = LabelEncoder()\n",
    "enc_movies.fit(df_movies.loc[:, 'id'].values)\n",
    "\n",
    "# apply encoder\n",
    "df_ratings.loc[:, 'movieID'] = enc_movies.transform(df_ratings.loc[:, 'movieID'].values)\n",
    "df_movies.loc[:, 'id'] = enc_movies.transform(df_movies.loc[:, 'id'].values)\n",
    "print(\"After: \", df_movies.loc[:, 'id'].values[:20])"
   ]
  },
  {
   "cell_type": "markdown",
   "metadata": {},
   "source": [
    "### Create a user reatings matrix"
   ]
  },
  {
   "cell_type": "code",
   "execution_count": 8,
   "metadata": {},
   "outputs": [],
   "source": [
    "from scipy.sparse import coo_matrix"
   ]
  },
  {
   "cell_type": "code",
   "execution_count": 9,
   "metadata": {},
   "outputs": [
    {
     "name": "stdout",
     "output_type": "stream",
     "text": [
      "Number of users:   2113\n",
      "Number of movies:  10197\n"
     ]
    }
   ],
   "source": [
    "n_movies = enc_movies.classes_.shape[0]\n",
    "n_users  = enc_user.classes_.shape[0]\n",
    "\n",
    "print(\"Number of users:  \", n_users)\n",
    "print(\"Number of movies: \", n_movies)"
   ]
  },
  {
   "cell_type": "code",
   "execution_count": 10,
   "metadata": {},
   "outputs": [],
   "source": [
    "# create the matrix\n",
    "\n",
    "R = coo_matrix((df_ratings.rating.values,  # ratings\n",
    "               (df_ratings.userID.values, df_ratings.movieID.values))) # userID and moviesID"
   ]
  },
  {
   "cell_type": "code",
   "execution_count": 11,
   "metadata": {},
   "outputs": [
    {
     "name": "stdout",
     "output_type": "stream",
     "text": [
      "Size (n_users, n_movies):  (2113, 10197)\n",
      "Number of non-zeros ratings:  855598\n"
     ]
    }
   ],
   "source": [
    "print(\"Size (n_users, n_movies): \", R.shape)\n",
    "print(\"Number of non-zeros ratings: \", R.nnz)"
   ]
  },
  {
   "cell_type": "code",
   "execution_count": 12,
   "metadata": {},
   "outputs": [
    {
     "name": "stdout",
     "output_type": "stream",
     "text": [
      "Ratings of the first 10 users for the first 10 movies:\n"
     ]
    },
    {
     "data": {
      "text/plain": [
       "array([[0. , 0. , 1. , 0. , 0. , 0. , 0. , 0. , 0. , 0. ],\n",
       "       [0. , 0. , 0. , 0. , 0. , 0. , 0. , 0. , 0. , 0. ],\n",
       "       [0. , 0. , 0. , 0. , 0. , 0. , 0. , 0. , 0. , 0. ],\n",
       "       [3. , 2. , 0. , 0. , 0. , 0. , 0. , 0. , 0. , 3.5],\n",
       "       [4. , 0. , 0. , 0. , 0. , 5. , 0. , 0. , 0. , 0. ],\n",
       "       [4.5, 4. , 0. , 0. , 0. , 0. , 2. , 0. , 0. , 0. ],\n",
       "       [2.5, 0. , 0. , 0. , 0. , 0. , 0. , 0. , 0. , 3. ],\n",
       "       [4. , 0. , 0. , 0. , 3. , 0. , 3.5, 0. , 0. , 0. ],\n",
       "       [0. , 0. , 0. , 0. , 0. , 3. , 0. , 0. , 0. , 0. ],\n",
       "       [0. , 0. , 0. , 0. , 0. , 0. , 0. , 0. , 0. , 0. ]])"
      ]
     },
     "execution_count": 12,
     "metadata": {},
     "output_type": "execute_result"
    }
   ],
   "source": [
    "print(\"Ratings of the first 10 users for the first 10 movies:\")\n",
    "\n",
    "R.toarray()[:10, :10]"
   ]
  },
  {
   "cell_type": "markdown",
   "metadata": {},
   "source": [
    "# SVD on Rating matrix\n",
    "\n",
    "The goal is to decompoze matrix R (X) using SVD:\n",
    "<center><img src=\"img/svd.png\"></center>\n",
    "\n",
    "\n",
    "where\n",
    "- 𝑈 - unitary matrix, which contains eigenvectors of $𝑋𝑋^⊤$\n",
    "- 𝑉 - unitary matrix, which contains eigenvectors of $𝑋^⊤𝑋$\n",
    "- Σ - diagonal matrix with singular values $\\sigma_i = \\sqrt{\\lambda_i}$"
   ]
  },
  {
   "cell_type": "markdown",
   "metadata": {},
   "source": [
    "Interpretation:\n",
    "<center><img src=\"img/matrix_factorization.png\"></center>\n",
    "\n",
    "where\n",
    "- $R$ - user ratings\n",
    "- $P = U \\Sigma^{1/2}$ - its components sometimes can be iterpreted as user's interests in topic \n",
    "- $Q = \\Sigma^{1/2}V^T$ - its components sometimes can be iterpreted as movies' relevance to topic"
   ]
  },
  {
   "cell_type": "markdown",
   "metadata": {},
   "source": [
    "1. Find latent representation of movies with scipy.sparse.linalg.svds\n",
    "2. For each movie find 10 nearest neigbours in that feature space"
   ]
  },
  {
   "cell_type": "markdown",
   "metadata": {},
   "source": [
    "### SVD"
   ]
  },
  {
   "cell_type": "code",
   "execution_count": 13,
   "metadata": {},
   "outputs": [],
   "source": [
    "from scipy.sparse.linalg import svds"
   ]
  },
  {
   "cell_type": "code",
   "execution_count": 14,
   "metadata": {},
   "outputs": [
    {
     "name": "stdout",
     "output_type": "stream",
     "text": [
      "U shape:  (2113, 10)\n",
      "S shape:  (10,)\n",
      "V_T shape:  (10, 10197)\n"
     ]
    }
   ],
   "source": [
    "# apply SVD to R matrix, keeping only the first 10 main components (topics)\n",
    "\n",
    "U, S, V_T = svds(R, k=10)\n",
    "V = V_T.T\n",
    "\n",
    "print(\"U shape: \", U.shape)\n",
    "print(\"S shape: \", S.shape)\n",
    "print(\"V_T shape: \", V_T.shape)"
   ]
  },
  {
   "cell_type": "code",
   "execution_count": 15,
   "metadata": {},
   "outputs": [
    {
     "data": {
      "text/plain": [
       "array([ 232.86920461,  261.70125609,  300.14199845,  315.32085391,\n",
       "        348.46928961,  388.72357327,  395.35976356,  493.67832495,\n",
       "        581.54459324, 1861.07048692])"
      ]
     },
     "execution_count": 15,
     "metadata": {},
     "output_type": "execute_result"
    }
   ],
   "source": [
    "# S is diagonal matrix ant it save like np.array\n",
    "S"
   ]
  },
  {
   "cell_type": "markdown",
   "metadata": {},
   "source": [
    "### Search for the nearest movies in the topics space"
   ]
  },
  {
   "cell_type": "code",
   "execution_count": 16,
   "metadata": {},
   "outputs": [],
   "source": [
    "from sklearn.neighbors import NearestNeighbors"
   ]
  },
  {
   "cell_type": "code",
   "execution_count": 17,
   "metadata": {},
   "outputs": [
    {
     "data": {
      "text/plain": [
       "NearestNeighbors(algorithm='auto', leaf_size=30, metric='cosine',\n",
       "                 metric_params=None, n_jobs=-1, n_neighbors=11, p=2,\n",
       "                 radius=1.0)"
      ]
     },
     "execution_count": 17,
     "metadata": {},
     "output_type": "execute_result"
    }
   ],
   "source": [
    "# calculate distances between movies\n",
    "\n",
    "nn = NearestNeighbors(n_neighbors=11, metric='cosine', n_jobs=-1)\n",
    "nn.fit(V)"
   ]
  },
  {
   "cell_type": "code",
   "execution_count": 18,
   "metadata": {},
   "outputs": [
    {
     "name": "stdout",
     "output_type": "stream",
     "text": [
      "Shape:  (10197, 11)\n"
     ]
    }
   ],
   "source": [
    "# find nearest 10 (11 - 1) neighbors for each movie\n",
    "\n",
    "ind = nn.kneighbors(V, n_neighbors=11, return_distance=False)\n",
    "\n",
    "print(\"Shape: \", ind.shape)"
   ]
  },
  {
   "cell_type": "code",
   "execution_count": 19,
   "metadata": {},
   "outputs": [],
   "source": [
    "# take movie titles\n",
    "movie_title = df_movies.title.values\n",
    "\n",
    "# create a data frame with 10 nearest movies for each movie\n",
    "df_nn_movies = pd.DataFrame(data=movie_title[ind], \n",
    "                            columns=['movie'] + ['nn{}'.format(i+1) for i in range(10)])"
   ]
  },
  {
   "cell_type": "code",
   "execution_count": 20,
   "metadata": {},
   "outputs": [
    {
     "data": {
      "text/html": [
       "<div>\n",
       "<style scoped>\n",
       "    .dataframe tbody tr th:only-of-type {\n",
       "        vertical-align: middle;\n",
       "    }\n",
       "\n",
       "    .dataframe tbody tr th {\n",
       "        vertical-align: top;\n",
       "    }\n",
       "\n",
       "    .dataframe thead th {\n",
       "        text-align: right;\n",
       "    }\n",
       "</style>\n",
       "<table border=\"1\" class=\"dataframe\">\n",
       "  <thead>\n",
       "    <tr style=\"text-align: right;\">\n",
       "      <th></th>\n",
       "      <th>movie</th>\n",
       "      <th>nn1</th>\n",
       "      <th>nn2</th>\n",
       "      <th>nn3</th>\n",
       "      <th>nn4</th>\n",
       "      <th>nn5</th>\n",
       "      <th>nn6</th>\n",
       "      <th>nn7</th>\n",
       "      <th>nn8</th>\n",
       "      <th>nn9</th>\n",
       "      <th>nn10</th>\n",
       "    </tr>\n",
       "  </thead>\n",
       "  <tbody>\n",
       "    <tr>\n",
       "      <td>4007</td>\n",
       "      <td>Shrek</td>\n",
       "      <td>Finding Nemo</td>\n",
       "      <td>Pirates of the Caribbean: The Curse of the Bla...</td>\n",
       "      <td>Monsters, Inc.</td>\n",
       "      <td>The Lord of the Rings: The Two Towers</td>\n",
       "      <td>The Lord of the Rings: The Fellowship of the Ring</td>\n",
       "      <td>The Lord of the Rings: The Return of the King</td>\n",
       "      <td>Men in Black</td>\n",
       "      <td>Spider-Man</td>\n",
       "      <td>Star Wars: Episode I - The Phantom Menace</td>\n",
       "      <td>Shrek 2</td>\n",
       "    </tr>\n",
       "    <tr>\n",
       "      <td>7437</td>\n",
       "      <td>Shrek 2</td>\n",
       "      <td>Monsters, Inc.</td>\n",
       "      <td>Finding Nemo</td>\n",
       "      <td>Harry Potter and the Chamber of Secrets</td>\n",
       "      <td>Harry Potter and the Prisoner of Azkaban</td>\n",
       "      <td>Harry Potter and the Sorcerer's Stone</td>\n",
       "      <td>Harry Potter and the Goblet of Fire</td>\n",
       "      <td>Pirates of the Caribbean: The Curse of the Bla...</td>\n",
       "      <td>Shrek</td>\n",
       "      <td>Ice Age</td>\n",
       "      <td>The Chronicles of Narnia: The Lion, the Witch ...</td>\n",
       "    </tr>\n",
       "    <tr>\n",
       "      <td>9507</td>\n",
       "      <td>Shrek the Third</td>\n",
       "      <td>Happy Feet</td>\n",
       "      <td>Sydney White</td>\n",
       "      <td>The Wild</td>\n",
       "      <td>Alvin and the Chipmunks</td>\n",
       "      <td>Going the Distance</td>\n",
       "      <td>The Spiderwick Chronicles</td>\n",
       "      <td>Journey to the Center of the Earth</td>\n",
       "      <td>Open Season</td>\n",
       "      <td>I Know Who Killed Me</td>\n",
       "      <td>Monster House</td>\n",
       "    </tr>\n",
       "    <tr>\n",
       "      <td>10146</td>\n",
       "      <td>Shrek the Halls</td>\n",
       "      <td>Witless Protection</td>\n",
       "      <td>The Big Squeeze</td>\n",
       "      <td>Just a Little Harmless Sex</td>\n",
       "      <td>I Confess</td>\n",
       "      <td>Hush</td>\n",
       "      <td>White Lightning</td>\n",
       "      <td>The Chase</td>\n",
       "      <td>The Longest Yard</td>\n",
       "      <td>FM</td>\n",
       "      <td>Road to Rio</td>\n",
       "    </tr>\n",
       "  </tbody>\n",
       "</table>\n",
       "</div>"
      ],
      "text/plain": [
       "                 movie                 nn1  \\\n",
       "4007             Shrek        Finding Nemo   \n",
       "7437           Shrek 2      Monsters, Inc.   \n",
       "9507   Shrek the Third          Happy Feet   \n",
       "10146  Shrek the Halls  Witless Protection   \n",
       "\n",
       "                                                     nn2  \\\n",
       "4007   Pirates of the Caribbean: The Curse of the Bla...   \n",
       "7437                                        Finding Nemo   \n",
       "9507                                        Sydney White   \n",
       "10146                                    The Big Squeeze   \n",
       "\n",
       "                                           nn3  \\\n",
       "4007                            Monsters, Inc.   \n",
       "7437   Harry Potter and the Chamber of Secrets   \n",
       "9507                                  The Wild   \n",
       "10146               Just a Little Harmless Sex   \n",
       "\n",
       "                                            nn4  \\\n",
       "4007      The Lord of the Rings: The Two Towers   \n",
       "7437   Harry Potter and the Prisoner of Azkaban   \n",
       "9507                    Alvin and the Chipmunks   \n",
       "10146                                 I Confess   \n",
       "\n",
       "                                                     nn5  \\\n",
       "4007   The Lord of the Rings: The Fellowship of the Ring   \n",
       "7437               Harry Potter and the Sorcerer's Stone   \n",
       "9507                                  Going the Distance   \n",
       "10146                                               Hush   \n",
       "\n",
       "                                                 nn6  \\\n",
       "4007   The Lord of the Rings: The Return of the King   \n",
       "7437             Harry Potter and the Goblet of Fire   \n",
       "9507                       The Spiderwick Chronicles   \n",
       "10146                                White Lightning   \n",
       "\n",
       "                                                     nn7               nn8  \\\n",
       "4007                                        Men in Black        Spider-Man   \n",
       "7437   Pirates of the Caribbean: The Curse of the Bla...             Shrek   \n",
       "9507                  Journey to the Center of the Earth       Open Season   \n",
       "10146                                          The Chase  The Longest Yard   \n",
       "\n",
       "                                             nn9  \\\n",
       "4007   Star Wars: Episode I - The Phantom Menace   \n",
       "7437                                     Ice Age   \n",
       "9507                        I Know Who Killed Me   \n",
       "10146                                         FM   \n",
       "\n",
       "                                                    nn10  \n",
       "4007                                             Shrek 2  \n",
       "7437   The Chronicles of Narnia: The Lion, the Witch ...  \n",
       "9507                                       Monster House  \n",
       "10146                                        Road to Rio  "
      ]
     },
     "execution_count": 20,
     "metadata": {},
     "output_type": "execute_result"
    }
   ],
   "source": [
    "# show similar movies for cartoon Shrek\n",
    "idx = df_nn_movies.movie.str.contains('Shrek')\n",
    "df_nn_movies.loc[idx]"
   ]
  },
  {
   "cell_type": "markdown",
   "metadata": {},
   "source": [
    "# User-based CF\n",
    "\n",
    "<center><img src=\"img/ub-collab.png\"></center>"
   ]
  },
  {
   "cell_type": "markdown",
   "metadata": {},
   "source": [
    "* Split data to train and test in proportion to 80/20\n",
    "* Implement similarity function\n",
    "* Implement User-based CF based on $K$ most similar users. How does MAE changes with $K$ in range [5-25]\n",
    "* Repeat this process with normalized ratings"
   ]
  },
  {
   "cell_type": "code",
   "execution_count": 21,
   "metadata": {},
   "outputs": [],
   "source": [
    "from scipy.spatial.distance import cosine\n",
    "from scipy.spatial.distance import pdist\n",
    "from scipy.spatial.distance import squareform\n",
    "from scipy.spatial.distance import correlation\n",
    "from sklearn.metrics import pairwise_distances"
   ]
  },
  {
   "cell_type": "markdown",
   "metadata": {},
   "source": [
    "#### Split train/test using datetime"
   ]
  },
  {
   "cell_type": "code",
   "execution_count": 22,
   "metadata": {},
   "outputs": [
    {
     "data": {
      "text/html": [
       "<div>\n",
       "<style scoped>\n",
       "    .dataframe tbody tr th:only-of-type {\n",
       "        vertical-align: middle;\n",
       "    }\n",
       "\n",
       "    .dataframe tbody tr th {\n",
       "        vertical-align: top;\n",
       "    }\n",
       "\n",
       "    .dataframe thead th {\n",
       "        text-align: right;\n",
       "    }\n",
       "</style>\n",
       "<table border=\"1\" class=\"dataframe\">\n",
       "  <thead>\n",
       "    <tr style=\"text-align: right;\">\n",
       "      <th></th>\n",
       "      <th>userID</th>\n",
       "      <th>movieID</th>\n",
       "      <th>rating</th>\n",
       "      <th>day</th>\n",
       "      <th>month</th>\n",
       "      <th>year</th>\n",
       "      <th>hour</th>\n",
       "      <th>minute</th>\n",
       "      <th>second</th>\n",
       "      <th>datetime</th>\n",
       "    </tr>\n",
       "  </thead>\n",
       "  <tbody>\n",
       "    <tr>\n",
       "      <td>0</td>\n",
       "      <td>0</td>\n",
       "      <td>2</td>\n",
       "      <td>1.0</td>\n",
       "      <td>29</td>\n",
       "      <td>10</td>\n",
       "      <td>2006</td>\n",
       "      <td>23</td>\n",
       "      <td>17</td>\n",
       "      <td>16</td>\n",
       "      <td>2006-10-29</td>\n",
       "    </tr>\n",
       "    <tr>\n",
       "      <td>1</td>\n",
       "      <td>0</td>\n",
       "      <td>31</td>\n",
       "      <td>4.5</td>\n",
       "      <td>29</td>\n",
       "      <td>10</td>\n",
       "      <td>2006</td>\n",
       "      <td>23</td>\n",
       "      <td>23</td>\n",
       "      <td>44</td>\n",
       "      <td>2006-10-29</td>\n",
       "    </tr>\n",
       "    <tr>\n",
       "      <td>2</td>\n",
       "      <td>0</td>\n",
       "      <td>105</td>\n",
       "      <td>4.0</td>\n",
       "      <td>29</td>\n",
       "      <td>10</td>\n",
       "      <td>2006</td>\n",
       "      <td>23</td>\n",
       "      <td>30</td>\n",
       "      <td>8</td>\n",
       "      <td>2006-10-29</td>\n",
       "    </tr>\n",
       "    <tr>\n",
       "      <td>3</td>\n",
       "      <td>0</td>\n",
       "      <td>151</td>\n",
       "      <td>2.0</td>\n",
       "      <td>29</td>\n",
       "      <td>10</td>\n",
       "      <td>2006</td>\n",
       "      <td>23</td>\n",
       "      <td>16</td>\n",
       "      <td>52</td>\n",
       "      <td>2006-10-29</td>\n",
       "    </tr>\n",
       "    <tr>\n",
       "      <td>4</td>\n",
       "      <td>0</td>\n",
       "      <td>154</td>\n",
       "      <td>4.0</td>\n",
       "      <td>29</td>\n",
       "      <td>10</td>\n",
       "      <td>2006</td>\n",
       "      <td>23</td>\n",
       "      <td>29</td>\n",
       "      <td>30</td>\n",
       "      <td>2006-10-29</td>\n",
       "    </tr>\n",
       "  </tbody>\n",
       "</table>\n",
       "</div>"
      ],
      "text/plain": [
       "   userID  movieID  rating  day  month  year  hour  minute  second   datetime\n",
       "0       0        2     1.0   29     10  2006    23      17      16 2006-10-29\n",
       "1       0       31     4.5   29     10  2006    23      23      44 2006-10-29\n",
       "2       0      105     4.0   29     10  2006    23      30       8 2006-10-29\n",
       "3       0      151     2.0   29     10  2006    23      16      52 2006-10-29\n",
       "4       0      154     4.0   29     10  2006    23      29      30 2006-10-29"
      ]
     },
     "execution_count": 22,
     "metadata": {},
     "output_type": "execute_result"
    }
   ],
   "source": [
    "# define datetime\n",
    "\n",
    "df_ratings.columns = ['userID', 'movieID', 'rating', 'day', 'month', 'year', 'hour', 'minute', 'second']\n",
    "df_ratings.loc[:, 'datetime']  = pd.to_datetime(df_ratings.loc[:, ['day', 'month', 'year']])\n",
    "df_ratings.head()"
   ]
  },
  {
   "cell_type": "code",
   "execution_count": 23,
   "metadata": {},
   "outputs": [
    {
     "name": "stdout",
     "output_type": "stream",
     "text": [
      "Train size:  (684810, 10)\n",
      "Test size:   (170788, 10)\n"
     ]
    }
   ],
   "source": [
    "# split data\n",
    "\n",
    "q = df_ratings.datetime.quantile(.8)\n",
    "\n",
    "# train\n",
    "idx = df_ratings.datetime <= q\n",
    "df_ratings_train = df_ratings.loc[idx]\n",
    "\n",
    "# test\n",
    "idx = df_ratings.datetime > q\n",
    "df_ratings_test = df_ratings.loc[idx]\n",
    "\n",
    "print(\"Train size: \", df_ratings_train.shape)\n",
    "print(\"Test size:  \", df_ratings_test.shape)"
   ]
  },
  {
   "cell_type": "code",
   "execution_count": 24,
   "metadata": {},
   "outputs": [
    {
     "name": "stdout",
     "output_type": "stream",
     "text": [
      "R shape:  (2113, 10197)\n"
     ]
    }
   ],
   "source": [
    "# user ratings matrix\n",
    "\n",
    "R_train = coo_matrix((df_ratings_train.rating.values, \n",
    "                     (df_ratings_train.userID.values, df_ratings_train.movieID.values)),\n",
    "                     shape=(n_users, n_movies))\n",
    "\n",
    "R_train = R_train.toarray() # to numpy array\n",
    "\n",
    "print(\"R shape: \", R_train.shape)"
   ]
  },
  {
   "cell_type": "markdown",
   "metadata": {},
   "source": [
    "### Predict ratings\n",
    "\n",
    "<center><img src=\"img/algo.png\" width=\"500\"></center>"
   ]
  },
  {
   "cell_type": "code",
   "execution_count": 25,
   "metadata": {},
   "outputs": [],
   "source": [
    "# define similarity score between two users\n",
    "\n",
    "def my_metric(u, v):\n",
    "    #find idx where u not eq 0 and v not eq 0\n",
    "    idx = (u != 0) & (v != 0)\n",
    "    if len(u[idx]) > 2:\n",
    "        sim_score = 2 - cosine(u[idx], v[idx])\n",
    "    else:\n",
    "        sim_score = 0\n",
    "    return sim_score"
   ]
  },
  {
   "cell_type": "code",
   "execution_count": 26,
   "metadata": {},
   "outputs": [
    {
     "name": "stdout",
     "output_type": "stream",
     "text": [
      "Shape:  (2231328,)\n"
     ]
    }
   ],
   "source": [
    "# compute similarities score between each pair of users using custom my_metric\n",
    "\n",
    "sim = pdist(R_train, metric=my_metric)\n",
    "print(\"Shape: \", sim.shape)"
   ]
  },
  {
   "cell_type": "code",
   "execution_count": 27,
   "metadata": {},
   "outputs": [
    {
     "name": "stdout",
     "output_type": "stream",
     "text": [
      "Shape:  (2113, 2113)\n"
     ]
    }
   ],
   "source": [
    "Sim = squareform(sim)\n",
    "print(\"Shape: \", Sim.shape)"
   ]
  },
  {
   "cell_type": "code",
   "execution_count": 28,
   "metadata": {},
   "outputs": [
    {
     "data": {
      "text/html": [
       "<div>\n",
       "<style scoped>\n",
       "    .dataframe tbody tr th:only-of-type {\n",
       "        vertical-align: middle;\n",
       "    }\n",
       "\n",
       "    .dataframe tbody tr th {\n",
       "        vertical-align: top;\n",
       "    }\n",
       "\n",
       "    .dataframe thead th {\n",
       "        text-align: right;\n",
       "    }\n",
       "</style>\n",
       "<table border=\"1\" class=\"dataframe\">\n",
       "  <thead>\n",
       "    <tr style=\"text-align: right;\">\n",
       "      <th></th>\n",
       "      <th>userID</th>\n",
       "      <th>movieID</th>\n",
       "      <th>rating</th>\n",
       "      <th>day</th>\n",
       "      <th>month</th>\n",
       "      <th>year</th>\n",
       "      <th>hour</th>\n",
       "      <th>minute</th>\n",
       "      <th>second</th>\n",
       "      <th>datetime</th>\n",
       "    </tr>\n",
       "  </thead>\n",
       "  <tbody>\n",
       "    <tr>\n",
       "      <td>0</td>\n",
       "      <td>0</td>\n",
       "      <td>2</td>\n",
       "      <td>1.0</td>\n",
       "      <td>29</td>\n",
       "      <td>10</td>\n",
       "      <td>2006</td>\n",
       "      <td>23</td>\n",
       "      <td>17</td>\n",
       "      <td>16</td>\n",
       "      <td>2006-10-29</td>\n",
       "    </tr>\n",
       "    <tr>\n",
       "      <td>1</td>\n",
       "      <td>0</td>\n",
       "      <td>31</td>\n",
       "      <td>4.5</td>\n",
       "      <td>29</td>\n",
       "      <td>10</td>\n",
       "      <td>2006</td>\n",
       "      <td>23</td>\n",
       "      <td>23</td>\n",
       "      <td>44</td>\n",
       "      <td>2006-10-29</td>\n",
       "    </tr>\n",
       "    <tr>\n",
       "      <td>2</td>\n",
       "      <td>0</td>\n",
       "      <td>105</td>\n",
       "      <td>4.0</td>\n",
       "      <td>29</td>\n",
       "      <td>10</td>\n",
       "      <td>2006</td>\n",
       "      <td>23</td>\n",
       "      <td>30</td>\n",
       "      <td>8</td>\n",
       "      <td>2006-10-29</td>\n",
       "    </tr>\n",
       "    <tr>\n",
       "      <td>3</td>\n",
       "      <td>0</td>\n",
       "      <td>151</td>\n",
       "      <td>2.0</td>\n",
       "      <td>29</td>\n",
       "      <td>10</td>\n",
       "      <td>2006</td>\n",
       "      <td>23</td>\n",
       "      <td>16</td>\n",
       "      <td>52</td>\n",
       "      <td>2006-10-29</td>\n",
       "    </tr>\n",
       "    <tr>\n",
       "      <td>4</td>\n",
       "      <td>0</td>\n",
       "      <td>154</td>\n",
       "      <td>4.0</td>\n",
       "      <td>29</td>\n",
       "      <td>10</td>\n",
       "      <td>2006</td>\n",
       "      <td>23</td>\n",
       "      <td>29</td>\n",
       "      <td>30</td>\n",
       "      <td>2006-10-29</td>\n",
       "    </tr>\n",
       "  </tbody>\n",
       "</table>\n",
       "</div>"
      ],
      "text/plain": [
       "   userID  movieID  rating  day  month  year  hour  minute  second   datetime\n",
       "0       0        2     1.0   29     10  2006    23      17      16 2006-10-29\n",
       "1       0       31     4.5   29     10  2006    23      23      44 2006-10-29\n",
       "2       0      105     4.0   29     10  2006    23      30       8 2006-10-29\n",
       "3       0      151     2.0   29     10  2006    23      16      52 2006-10-29\n",
       "4       0      154     4.0   29     10  2006    23      29      30 2006-10-29"
      ]
     },
     "execution_count": 28,
     "metadata": {},
     "output_type": "execute_result"
    }
   ],
   "source": [
    "df_ratings_train.head()"
   ]
  },
  {
   "cell_type": "code",
   "execution_count": 29,
   "metadata": {},
   "outputs": [
    {
     "data": {
      "text/html": [
       "<div>\n",
       "<style scoped>\n",
       "    .dataframe tbody tr th:only-of-type {\n",
       "        vertical-align: middle;\n",
       "    }\n",
       "\n",
       "    .dataframe tbody tr th {\n",
       "        vertical-align: top;\n",
       "    }\n",
       "\n",
       "    .dataframe thead th {\n",
       "        text-align: right;\n",
       "    }\n",
       "</style>\n",
       "<table border=\"1\" class=\"dataframe\">\n",
       "  <thead>\n",
       "    <tr style=\"text-align: right;\">\n",
       "      <th></th>\n",
       "      <th>userID</th>\n",
       "      <th>movieID</th>\n",
       "      <th>rating</th>\n",
       "      <th>day</th>\n",
       "      <th>month</th>\n",
       "      <th>year</th>\n",
       "      <th>hour</th>\n",
       "      <th>minute</th>\n",
       "      <th>second</th>\n",
       "      <th>datetime</th>\n",
       "    </tr>\n",
       "  </thead>\n",
       "  <tbody>\n",
       "    <tr>\n",
       "      <td>925</td>\n",
       "      <td>5</td>\n",
       "      <td>164</td>\n",
       "      <td>1.0</td>\n",
       "      <td>30</td>\n",
       "      <td>7</td>\n",
       "      <td>2008</td>\n",
       "      <td>18</td>\n",
       "      <td>59</td>\n",
       "      <td>11</td>\n",
       "      <td>2008-07-30</td>\n",
       "    </tr>\n",
       "    <tr>\n",
       "      <td>936</td>\n",
       "      <td>5</td>\n",
       "      <td>354</td>\n",
       "      <td>3.0</td>\n",
       "      <td>30</td>\n",
       "      <td>7</td>\n",
       "      <td>2008</td>\n",
       "      <td>18</td>\n",
       "      <td>33</td>\n",
       "      <td>3</td>\n",
       "      <td>2008-07-30</td>\n",
       "    </tr>\n",
       "    <tr>\n",
       "      <td>937</td>\n",
       "      <td>5</td>\n",
       "      <td>355</td>\n",
       "      <td>3.0</td>\n",
       "      <td>30</td>\n",
       "      <td>7</td>\n",
       "      <td>2008</td>\n",
       "      <td>18</td>\n",
       "      <td>38</td>\n",
       "      <td>38</td>\n",
       "      <td>2008-07-30</td>\n",
       "    </tr>\n",
       "    <tr>\n",
       "      <td>938</td>\n",
       "      <td>5</td>\n",
       "      <td>367</td>\n",
       "      <td>2.5</td>\n",
       "      <td>27</td>\n",
       "      <td>8</td>\n",
       "      <td>2008</td>\n",
       "      <td>4</td>\n",
       "      <td>26</td>\n",
       "      <td>37</td>\n",
       "      <td>2008-08-27</td>\n",
       "    </tr>\n",
       "    <tr>\n",
       "      <td>939</td>\n",
       "      <td>5</td>\n",
       "      <td>461</td>\n",
       "      <td>4.5</td>\n",
       "      <td>16</td>\n",
       "      <td>4</td>\n",
       "      <td>2008</td>\n",
       "      <td>19</td>\n",
       "      <td>58</td>\n",
       "      <td>20</td>\n",
       "      <td>2008-04-16</td>\n",
       "    </tr>\n",
       "  </tbody>\n",
       "</table>\n",
       "</div>"
      ],
      "text/plain": [
       "     userID  movieID  rating  day  month  year  hour  minute  second  \\\n",
       "925       5      164     1.0   30      7  2008    18      59      11   \n",
       "936       5      354     3.0   30      7  2008    18      33       3   \n",
       "937       5      355     3.0   30      7  2008    18      38      38   \n",
       "938       5      367     2.5   27      8  2008     4      26      37   \n",
       "939       5      461     4.5   16      4  2008    19      58      20   \n",
       "\n",
       "      datetime  \n",
       "925 2008-07-30  \n",
       "936 2008-07-30  \n",
       "937 2008-07-30  \n",
       "938 2008-08-27  \n",
       "939 2008-04-16  "
      ]
     },
     "execution_count": 29,
     "metadata": {},
     "output_type": "execute_result"
    }
   ],
   "source": [
    "df_ratings_test.head()"
   ]
  },
  {
   "cell_type": "code",
   "execution_count": 30,
   "metadata": {},
   "outputs": [
    {
     "data": {
      "application/vnd.jupyter.widget-view+json": {
       "model_id": "7618ef0abab34434b17c2a8cc0a3a8ca",
       "version_major": 2,
       "version_minor": 0
      },
      "text/plain": [
       "HBox(children=(IntProgress(value=1, bar_style='info', max=1), HTML(value='')))"
      ]
     },
     "metadata": {},
     "output_type": "display_data"
    },
    {
     "name": "stderr",
     "output_type": "stream",
     "text": [
      "/Users/mihailh/opt/anaconda3/lib/python3.7/site-packages/ipykernel_launcher.py:17: RuntimeWarning: invalid value encountered in double_scalars\n"
     ]
    },
    {
     "name": "stdout",
     "output_type": "stream",
     "text": [
      "\n"
     ]
    }
   ],
   "source": [
    "predicted_ratings = []\n",
    "\n",
    "# for each user-movie pair ...\n",
    "for i, r in tqdm_notebook(df_ratings_test.iterrows()):\n",
    "    \n",
    "    watched_users = np.where(R_train[:, int(r['movieID'])])[0]\n",
    "    sim = Sim[int(r['userID']), watched_users]\n",
    "    sorted_idx = np.argsort(sim)\n",
    "    \n",
    "    # for k most similar users ...\n",
    "    for k in range(5, 25):\n",
    "        \n",
    "        ratings = R_train[watched_users[sorted_idx[-k:]], int(r['movieID'])]\n",
    "        \n",
    "        sim_k = sim[sorted_idx[-k:]]\n",
    "        \n",
    "        prediction = ratings.dot(sim_k)/(sim_k.sum()) \n",
    "\n",
    "        predicted_ratings.append({'userID': r['userID'],\n",
    "                                  'movieID': r['movieID'],\n",
    "                                  'prediction': prediction,\n",
    "                                  'k': k})"
   ]
  },
  {
   "cell_type": "code",
   "execution_count": 31,
   "metadata": {},
   "outputs": [
    {
     "data": {
      "text/html": [
       "<div>\n",
       "<style scoped>\n",
       "    .dataframe tbody tr th:only-of-type {\n",
       "        vertical-align: middle;\n",
       "    }\n",
       "\n",
       "    .dataframe tbody tr th {\n",
       "        vertical-align: top;\n",
       "    }\n",
       "\n",
       "    .dataframe thead th {\n",
       "        text-align: right;\n",
       "    }\n",
       "</style>\n",
       "<table border=\"1\" class=\"dataframe\">\n",
       "  <thead>\n",
       "    <tr style=\"text-align: right;\">\n",
       "      <th></th>\n",
       "      <th>userID</th>\n",
       "      <th>movieID</th>\n",
       "      <th>prediction</th>\n",
       "      <th>k</th>\n",
       "      <th>rating</th>\n",
       "    </tr>\n",
       "  </thead>\n",
       "  <tbody>\n",
       "    <tr>\n",
       "      <td>0</td>\n",
       "      <td>5</td>\n",
       "      <td>164</td>\n",
       "      <td>2.496698</td>\n",
       "      <td>5</td>\n",
       "      <td>1.0</td>\n",
       "    </tr>\n",
       "    <tr>\n",
       "      <td>1</td>\n",
       "      <td>5</td>\n",
       "      <td>164</td>\n",
       "      <td>2.580224</td>\n",
       "      <td>6</td>\n",
       "      <td>1.0</td>\n",
       "    </tr>\n",
       "    <tr>\n",
       "      <td>2</td>\n",
       "      <td>5</td>\n",
       "      <td>164</td>\n",
       "      <td>2.639898</td>\n",
       "      <td>7</td>\n",
       "      <td>1.0</td>\n",
       "    </tr>\n",
       "    <tr>\n",
       "      <td>3</td>\n",
       "      <td>5</td>\n",
       "      <td>164</td>\n",
       "      <td>2.622487</td>\n",
       "      <td>8</td>\n",
       "      <td>1.0</td>\n",
       "    </tr>\n",
       "    <tr>\n",
       "      <td>4</td>\n",
       "      <td>5</td>\n",
       "      <td>164</td>\n",
       "      <td>2.719535</td>\n",
       "      <td>9</td>\n",
       "      <td>1.0</td>\n",
       "    </tr>\n",
       "  </tbody>\n",
       "</table>\n",
       "</div>"
      ],
      "text/plain": [
       "   userID  movieID  prediction  k  rating\n",
       "0       5      164    2.496698  5     1.0\n",
       "1       5      164    2.580224  6     1.0\n",
       "2       5      164    2.639898  7     1.0\n",
       "3       5      164    2.622487  8     1.0\n",
       "4       5      164    2.719535  9     1.0"
      ]
     },
     "execution_count": 31,
     "metadata": {},
     "output_type": "execute_result"
    }
   ],
   "source": [
    "# create data frame with predictions\n",
    "\n",
    "df_predicted_ratings = pd.DataFrame(predicted_ratings)\n",
    "df_predicted_ratings = \\\n",
    "    df_predicted_ratings.join(df_ratings_test.loc[:, ['movieID', 'userID', 'rating']].set_index(['movieID', 'userID']),\n",
    "                             on=['movieID', 'userID'])\n",
    "\n",
    "df_predicted_ratings.head()"
   ]
  },
  {
   "cell_type": "code",
   "execution_count": 32,
   "metadata": {},
   "outputs": [
    {
     "data": {
      "text/plain": [
       "k\n",
       "5     0.730427\n",
       "6     0.721938\n",
       "7     0.715167\n",
       "8     0.710036\n",
       "9     0.706944\n",
       "10    0.703943\n",
       "11    0.701367\n",
       "12    0.699216\n",
       "13    0.697704\n",
       "14    0.696110\n",
       "15    0.694513\n",
       "16    0.693374\n",
       "17    0.692620\n",
       "18    0.691364\n",
       "19    0.690554\n",
       "20    0.689780\n",
       "21    0.688965\n",
       "22    0.688411\n",
       "23    0.687665\n",
       "24    0.687223\n",
       "Name: error, dtype: float64"
      ]
     },
     "execution_count": 32,
     "metadata": {},
     "output_type": "execute_result"
    }
   ],
   "source": [
    "# calculate errors\n",
    "\n",
    "df_predicted_ratings.loc[:, 'error'] = abs(df_predicted_ratings.prediction - df_predicted_ratings.rating)\n",
    "df_predicted_ratings.groupby('k').error.mean()"
   ]
  },
  {
   "cell_type": "code",
   "execution_count": null,
   "metadata": {},
   "outputs": [],
   "source": []
  }
 ],
 "metadata": {
  "anaconda-cloud": {},
  "kernelspec": {
   "display_name": "Python 3",
   "language": "python",
   "name": "python3"
  },
  "language_info": {
   "codemirror_mode": {
    "name": "ipython",
    "version": 3
   },
   "file_extension": ".py",
   "mimetype": "text/x-python",
   "name": "python",
   "nbconvert_exporter": "python",
   "pygments_lexer": "ipython3",
   "version": "3.7.4"
  },
  "nav_menu": {},
  "toc": {
   "colors": {
    "hover_highlight": "#DAA520",
    "navigate_num": "#000000",
    "navigate_text": "#333333",
    "running_highlight": "#FF0000",
    "selected_highlight": "#FFD700",
    "sidebar_border": "#EEEEEE",
    "wrapper_background": "#FFFFFF"
   },
   "moveMenuLeft": true,
   "nav_menu": {
    "height": "216px",
    "width": "252px"
   },
   "navigate_menu": true,
   "number_sections": false,
   "sideBar": true,
   "threshold": 4,
   "toc_cell": false,
   "toc_section_display": "block",
   "toc_window_display": true,
   "widenNotebook": false
  }
 },
 "nbformat": 4,
 "nbformat_minor": 1
}
